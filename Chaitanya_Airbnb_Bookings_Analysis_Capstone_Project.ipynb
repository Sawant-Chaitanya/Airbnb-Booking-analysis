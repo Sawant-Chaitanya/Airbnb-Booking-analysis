{
  "nbformat": 4,
  "nbformat_minor": 0,
  "metadata": {
    "kernelspec": {
      "display_name": "Python 3",
      "language": "python",
      "name": "python3"
    },
    "language_info": {
      "codemirror_mode": {
        "name": "ipython",
        "version": 3
      },
      "file_extension": ".py",
      "mimetype": "text/x-python",
      "name": "python",
      "nbconvert_exporter": "python",
      "pygments_lexer": "ipython3",
      "version": "3.6.6"
    },
    "colab": {
      "name": "Chaitanya_Airbnb Bookings Analysis - Capstone Project.ipynb",
      "provenance": [],
      "include_colab_link": true
    }
  },
  "cells": [
    {
      "cell_type": "markdown",
      "metadata": {
        "id": "view-in-github",
        "colab_type": "text"
      },
      "source": [
        "<a href=\"https://colab.research.google.com/github/Sawant-Chaitanya/Airbnb-Booking-analysis/blob/main/Chaitanya_Airbnb_Bookings_Analysis_Capstone_Project.ipynb\" target=\"_parent\"><img src=\"https://colab.research.google.com/assets/colab-badge.svg\" alt=\"Open In Colab\"/></a>"
      ]
    },
    {
      "cell_type": "markdown",
      "metadata": {
        "id": "Y06xIdG26kRF"
      },
      "source": [
        "## <b> Since 2008, guests and hosts have used Airbnb to expand on traveling possibilities and present a more unique, personalized way of experiencing the world. Today, Airbnb became one of a kind service that is used and recognized by the whole world. Data analysis on millions of listings provided through Airbnb is a crucial factor for the company. These millions of listings generate a lot of data - data that can be analyzed and used for security, business decisions, understanding of customers' and providers' (hosts) behavior and performance on the platform, guiding marketing initiatives, implementation of innovative additional services and much more. </b>\n",
        "\n",
        "## <b>This dataset has around 49,000 observations in it with 16 columns and it is a mix between categorical and numeric values. </b>\n",
        "\n",
        "## <b> Explore and analyze the data to discover key understandings (not limited to these) such as : \n",
        "* What can we learn about different hosts and areas?\n",
        "* What can we learn from predictions? (ex: locations, prices, reviews, etc)\n",
        "* Which hosts are the busiest and why?\n",
        "* Is there any noticeable difference of traffic among different areas and what could be the reason for it? </b>"
      ]
    },
    {
      "cell_type": "code",
      "metadata": {
        "id": "et444U61tR0m"
      },
      "source": [
        ""
      ],
      "execution_count": 2,
      "outputs": []
    },
    {
      "cell_type": "markdown",
      "metadata": {
        "id": "Hgeyu_aptV93"
      },
      "source": [
        "# **Exploratory Data Analysis on NYC Airbnb 2019 dataset**"
      ]
    },
    {
      "cell_type": "markdown",
      "metadata": {
        "id": "A9wQfoYXt_1n"
      },
      "source": [
        "\n",
        "\n",
        "\n",
        "\n",
        "## Airbnb was conceived years ago by two roommates who rented out an air mattress in their living room. This turned their whole apartment into a bed and breakfast. This was done to sustain the high-priced living in San Francisco. This gave the company its name **Airbedandbreakfast**.This San-Francisco based startup offers you someone’s home as a place to stay instead of a hotel. Airbnb was **started in 2008**.Since 2008, guests and hosts have used Airbnb to expand on traveling possibilities and present a more unique, personalized way of experiencing the world. Today, Airbnb became one of a kind service that is used and recognized by the whole world. Data analysis on millions of listings provided through Airbnb is a crucial factor for the company. These millions of listings generate a lot of data - data that can be analyzed and used for security, business decisions, understanding of customers' and providers' (hosts) behavior and performance on the platform, guiding marketing initiatives, implementation of innovative additional services and much more.\n",
        "\n",
        "\n",
        "\n"
      ]
    },
    {
      "cell_type": "markdown",
      "metadata": {
        "id": "9DQJO2bGvaEr"
      },
      "source": [
        "# **Data Source**"
      ]
    },
    {
      "cell_type": "markdown",
      "metadata": {
        "id": "sVwpvcACsw9r"
      },
      "source": [
        "# **Acquaring and Loading Data**"
      ]
    },
    {
      "cell_type": "code",
      "metadata": {
        "id": "dByMsuzT8Tnw"
      },
      "source": [
        "#importing necessery libraries for future analysis of the dataset\n",
        "\n",
        "import numpy as np\n",
        "import pandas as pd\n",
        "import matplotlib.pyplot as plt\n",
        "import matplotlib.image as mpimg\n",
        "%matplotlib inline\n",
        "import seaborn as sns\n",
        "from skimage.io import imread \n"
      ],
      "execution_count": 3,
      "outputs": []
    },
    {
      "cell_type": "code",
      "metadata": {
        "colab": {
          "base_uri": "https://localhost:8080/"
        },
        "id": "emGhvM4lurK-",
        "outputId": "6e158d06-267f-4bad-9d67-3ad9489034db"
      },
      "source": [
        "from google.colab import drive\n",
        "drive.mount('/content/drive')"
      ],
      "execution_count": 4,
      "outputs": [
        {
          "output_type": "stream",
          "name": "stdout",
          "text": [
            "Drive already mounted at /content/drive; to attempt to forcibly remount, call drive.mount(\"/content/drive\", force_remount=True).\n"
          ]
        }
      ]
    },
    {
      "cell_type": "code",
      "metadata": {
        "colab": {
          "base_uri": "https://localhost:8080/",
          "height": 265
        },
        "id": "1UanUON5u1FQ",
        "outputId": "4f2de9f0-8063-4081-f1f9-a6869fa9b22c"
      },
      "source": [
        "#using pandas library and 'read_csv' function to read Airbnb NYC 2019 csv file\n",
        "\n",
        "df_airbnb = pd.read_csv('/content/drive/MyDrive/Almabetter/Capstone Project/AirBnB Bookings Analysis/Airbnb NYC 2019.csv')\n",
        "df_airbnb.head(3)"
      ],
      "execution_count": 5,
      "outputs": [
        {
          "output_type": "execute_result",
          "data": {
            "text/html": [
              "<div>\n",
              "<style scoped>\n",
              "    .dataframe tbody tr th:only-of-type {\n",
              "        vertical-align: middle;\n",
              "    }\n",
              "\n",
              "    .dataframe tbody tr th {\n",
              "        vertical-align: top;\n",
              "    }\n",
              "\n",
              "    .dataframe thead th {\n",
              "        text-align: right;\n",
              "    }\n",
              "</style>\n",
              "<table border=\"1\" class=\"dataframe\">\n",
              "  <thead>\n",
              "    <tr style=\"text-align: right;\">\n",
              "      <th></th>\n",
              "      <th>id</th>\n",
              "      <th>name</th>\n",
              "      <th>host_id</th>\n",
              "      <th>host_name</th>\n",
              "      <th>neighbourhood_group</th>\n",
              "      <th>neighbourhood</th>\n",
              "      <th>latitude</th>\n",
              "      <th>longitude</th>\n",
              "      <th>room_type</th>\n",
              "      <th>price</th>\n",
              "      <th>minimum_nights</th>\n",
              "      <th>number_of_reviews</th>\n",
              "      <th>last_review</th>\n",
              "      <th>reviews_per_month</th>\n",
              "      <th>calculated_host_listings_count</th>\n",
              "      <th>availability_365</th>\n",
              "    </tr>\n",
              "  </thead>\n",
              "  <tbody>\n",
              "    <tr>\n",
              "      <th>0</th>\n",
              "      <td>2539</td>\n",
              "      <td>Clean &amp; quiet apt home by the park</td>\n",
              "      <td>2787</td>\n",
              "      <td>John</td>\n",
              "      <td>Brooklyn</td>\n",
              "      <td>Kensington</td>\n",
              "      <td>40.64749</td>\n",
              "      <td>-73.97237</td>\n",
              "      <td>Private room</td>\n",
              "      <td>149</td>\n",
              "      <td>1</td>\n",
              "      <td>9</td>\n",
              "      <td>2018-10-19</td>\n",
              "      <td>0.21</td>\n",
              "      <td>6</td>\n",
              "      <td>365</td>\n",
              "    </tr>\n",
              "    <tr>\n",
              "      <th>1</th>\n",
              "      <td>2595</td>\n",
              "      <td>Skylit Midtown Castle</td>\n",
              "      <td>2845</td>\n",
              "      <td>Jennifer</td>\n",
              "      <td>Manhattan</td>\n",
              "      <td>Midtown</td>\n",
              "      <td>40.75362</td>\n",
              "      <td>-73.98377</td>\n",
              "      <td>Entire home/apt</td>\n",
              "      <td>225</td>\n",
              "      <td>1</td>\n",
              "      <td>45</td>\n",
              "      <td>2019-05-21</td>\n",
              "      <td>0.38</td>\n",
              "      <td>2</td>\n",
              "      <td>355</td>\n",
              "    </tr>\n",
              "    <tr>\n",
              "      <th>2</th>\n",
              "      <td>3647</td>\n",
              "      <td>THE VILLAGE OF HARLEM....NEW YORK !</td>\n",
              "      <td>4632</td>\n",
              "      <td>Elisabeth</td>\n",
              "      <td>Manhattan</td>\n",
              "      <td>Harlem</td>\n",
              "      <td>40.80902</td>\n",
              "      <td>-73.94190</td>\n",
              "      <td>Private room</td>\n",
              "      <td>150</td>\n",
              "      <td>3</td>\n",
              "      <td>0</td>\n",
              "      <td>NaN</td>\n",
              "      <td>NaN</td>\n",
              "      <td>1</td>\n",
              "      <td>365</td>\n",
              "    </tr>\n",
              "  </tbody>\n",
              "</table>\n",
              "</div>"
            ],
            "text/plain": [
              "     id  ... availability_365\n",
              "0  2539  ...              365\n",
              "1  2595  ...              355\n",
              "2  3647  ...              365\n",
              "\n",
              "[3 rows x 16 columns]"
            ]
          },
          "metadata": {},
          "execution_count": 5
        }
      ]
    },
    {
      "cell_type": "markdown",
      "metadata": {
        "id": "BJmNQWw3v8_F"
      },
      "source": [
        "# **Data Exploration and variable Identification**"
      ]
    },
    {
      "cell_type": "code",
      "metadata": {
        "colab": {
          "base_uri": "https://localhost:8080/"
        },
        "id": "VMc7ImxNWKtv",
        "outputId": "ee68685c-71dc-4488-d533-b4f10fe07920"
      },
      "source": [
        "#checking info about dataset\n",
        "df_airbnb.info()"
      ],
      "execution_count": 6,
      "outputs": [
        {
          "output_type": "stream",
          "name": "stdout",
          "text": [
            "<class 'pandas.core.frame.DataFrame'>\n",
            "RangeIndex: 48895 entries, 0 to 48894\n",
            "Data columns (total 16 columns):\n",
            " #   Column                          Non-Null Count  Dtype  \n",
            "---  ------                          --------------  -----  \n",
            " 0   id                              48895 non-null  int64  \n",
            " 1   name                            48879 non-null  object \n",
            " 2   host_id                         48895 non-null  int64  \n",
            " 3   host_name                       48874 non-null  object \n",
            " 4   neighbourhood_group             48895 non-null  object \n",
            " 5   neighbourhood                   48895 non-null  object \n",
            " 6   latitude                        48895 non-null  float64\n",
            " 7   longitude                       48895 non-null  float64\n",
            " 8   room_type                       48895 non-null  object \n",
            " 9   price                           48895 non-null  int64  \n",
            " 10  minimum_nights                  48895 non-null  int64  \n",
            " 11  number_of_reviews               48895 non-null  int64  \n",
            " 12  last_review                     38843 non-null  object \n",
            " 13  reviews_per_month               38843 non-null  float64\n",
            " 14  calculated_host_listings_count  48895 non-null  int64  \n",
            " 15  availability_365                48895 non-null  int64  \n",
            "dtypes: float64(3), int64(7), object(6)\n",
            "memory usage: 6.0+ MB\n"
          ]
        }
      ]
    },
    {
      "cell_type": "code",
      "metadata": {
        "colab": {
          "base_uri": "https://localhost:8080/"
        },
        "id": "KOhu0w7yve4p",
        "outputId": "5330129a-086d-4a9b-e25e-3d9cb90680bd"
      },
      "source": [
        "df_airbnb.shape"
      ],
      "execution_count": 7,
      "outputs": [
        {
          "output_type": "execute_result",
          "data": {
            "text/plain": [
              "(48895, 16)"
            ]
          },
          "metadata": {},
          "execution_count": 7
        }
      ]
    },
    {
      "cell_type": "markdown",
      "metadata": {
        "id": "rTeOEQBClmY_"
      },
      "source": [
        "This dataset has around **48895 observations** in it with **16 columns(features)** and it is a mix between categorical and numeric values."
      ]
    },
    {
      "cell_type": "code",
      "metadata": {
        "id": "QSijR8d5xA3_"
      },
      "source": [
        ""
      ],
      "execution_count": 7,
      "outputs": []
    },
    {
      "cell_type": "markdown",
      "metadata": {
        "id": "RLK8lTSrxCCs"
      },
      "source": [
        "# **Understadning Data**"
      ]
    },
    {
      "cell_type": "markdown",
      "metadata": {
        "id": "XLYKGVnXPX17"
      },
      "source": [
        "**Finding numerical and categorical variables**"
      ]
    },
    {
      "cell_type": "code",
      "metadata": {
        "colab": {
          "base_uri": "https://localhost:8080/"
        },
        "id": "QO1Q6J32TOi_",
        "outputId": "7f8aa906-2972-430c-eb5a-6b5222937664"
      },
      "source": [
        "#checking what are the variables here:\n",
        "df_airbnb.columns"
      ],
      "execution_count": 8,
      "outputs": [
        {
          "output_type": "execute_result",
          "data": {
            "text/plain": [
              "Index(['id', 'name', 'host_id', 'host_name', 'neighbourhood_group',\n",
              "       'neighbourhood', 'latitude', 'longitude', 'room_type', 'price',\n",
              "       'minimum_nights', 'number_of_reviews', 'last_review',\n",
              "       'reviews_per_month', 'calculated_host_listings_count',\n",
              "       'availability_365'],\n",
              "      dtype='object')"
            ]
          },
          "metadata": {},
          "execution_count": 8
        }
      ]
    },
    {
      "cell_type": "markdown",
      "metadata": {
        "id": "oZSp7GuBTWKf"
      },
      "source": [
        "By obsevations we get to that **'name'** column represents **property name** and and perticular properties were hosted by **perticular hosts** who are represented in **'host_name'** column.\n",
        "But a particular host_name can have multiple properties in a area.\n",
        "So **host_name** is like one of the **catogerical variable** like **neighbourhood(areas), neighbourhood_group, and room_type**."
      ]
    },
    {
      "cell_type": "code",
      "metadata": {
        "colab": {
          "base_uri": "https://localhost:8080/"
        },
        "id": "kPaDRRooS0Xw",
        "outputId": "f10262cb-dbf1-421a-e16b-4f2213b0a52b"
      },
      "source": [
        "#let's proceed with examing some categorical unique values\n",
        "\n",
        "#examining the unique values of neighbourhood_group \n",
        "df_airbnb.neighbourhood_group.unique()"
      ],
      "execution_count": 9,
      "outputs": [
        {
          "output_type": "execute_result",
          "data": {
            "text/plain": [
              "array(['Brooklyn', 'Manhattan', 'Queens', 'Staten Island', 'Bronx'],\n",
              "      dtype=object)"
            ]
          },
          "metadata": {},
          "execution_count": 9
        }
      ]
    },
    {
      "cell_type": "code",
      "metadata": {
        "colab": {
          "base_uri": "https://localhost:8080/"
        },
        "id": "8Y26WmVAT24t",
        "outputId": "b5f83422-5a53-42d4-d63b-bc544556e299"
      },
      "source": [
        "#examining the unique values of neighbourhood\n",
        "df_airbnb['neighbourhood'].nunique()"
      ],
      "execution_count": 10,
      "outputs": [
        {
          "output_type": "execute_result",
          "data": {
            "text/plain": [
              "221"
            ]
          },
          "metadata": {},
          "execution_count": 10
        }
      ]
    },
    {
      "cell_type": "code",
      "metadata": {
        "colab": {
          "base_uri": "https://localhost:8080/"
        },
        "id": "-5hDdU0dTt-A",
        "outputId": "7136bf59-b452-415e-c1ea-3485650f387f"
      },
      "source": [
        "#examining the unique values of room_type \n",
        "df_airbnb.room_type.unique()"
      ],
      "execution_count": 11,
      "outputs": [
        {
          "output_type": "execute_result",
          "data": {
            "text/plain": [
              "array(['Private room', 'Entire home/apt', 'Shared room'], dtype=object)"
            ]
          },
          "metadata": {},
          "execution_count": 11
        }
      ]
    },
    {
      "cell_type": "code",
      "metadata": {
        "colab": {
          "base_uri": "https://localhost:8080/"
        },
        "id": "a-bNWTNLTgts",
        "outputId": "275b8309-4f31-45e8-b903-1ec2adda389b"
      },
      "source": [
        "df_airbnb['host_id'].nunique()"
      ],
      "execution_count": 12,
      "outputs": [
        {
          "output_type": "execute_result",
          "data": {
            "text/plain": [
              "37457"
            ]
          },
          "metadata": {},
          "execution_count": 12
        }
      ]
    },
    {
      "cell_type": "code",
      "metadata": {
        "colab": {
          "base_uri": "https://localhost:8080/"
        },
        "id": "sAUsinMTPtwC",
        "outputId": "302ea9ae-13a3-405c-d43e-ddbc073f7082"
      },
      "source": [
        "df_airbnb['host_name'].nunique()"
      ],
      "execution_count": 13,
      "outputs": [
        {
          "output_type": "execute_result",
          "data": {
            "text/plain": [
              "11452"
            ]
          },
          "metadata": {},
          "execution_count": 13
        }
      ]
    },
    {
      "cell_type": "code",
      "metadata": {
        "colab": {
          "base_uri": "https://localhost:8080/"
        },
        "id": "AERmAyHTPw1N",
        "outputId": "03e25534-b0dd-4aaf-ee89-66f702a11bd5"
      },
      "source": [
        "df_airbnb['name'].nunique()"
      ],
      "execution_count": 14,
      "outputs": [
        {
          "output_type": "execute_result",
          "data": {
            "text/plain": [
              "47905"
            ]
          },
          "metadata": {},
          "execution_count": 14
        }
      ]
    },
    {
      "cell_type": "code",
      "metadata": {
        "colab": {
          "base_uri": "https://localhost:8080/"
        },
        "id": "SZblH9CyPzCt",
        "outputId": "44f7179a-0ccf-44d5-9505-ba055d6f9014"
      },
      "source": [
        "df_airbnb['name'].value_counts()\n",
        "#  few listings have no particular host name as below observation\n",
        "#also few listings/property with same names has different hosts in different neighbourhoods of a neighbourhood_group"
      ],
      "execution_count": 15,
      "outputs": [
        {
          "output_type": "execute_result",
          "data": {
            "text/plain": [
              "Hillside Hotel                                        18\n",
              "Home away from home                                   17\n",
              "New york Multi-unit building                          16\n",
              "Brooklyn Apartment                                    12\n",
              "Loft Suite @ The Box House Hotel                      11\n",
              "                                                      ..\n",
              "Modern Apartment 7 min from JFK Airport and Casino     1\n",
              "Beautiful Brownstone                                   1\n",
              "Park Slope Secret Garden                               1\n",
              "ENTIRE PLACE                                           1\n",
              "Private room in 3 bedroom apartment Bed Stuy           1\n",
              "Name: name, Length: 47905, dtype: int64"
            ]
          },
          "metadata": {},
          "execution_count": 15
        }
      ]
    },
    {
      "cell_type": "code",
      "metadata": {
        "colab": {
          "base_uri": "https://localhost:8080/",
          "height": 367
        },
        "id": "yxqhn_bEntV2",
        "outputId": "5a6dafd4-892e-4ccc-95ae-8ef8967488a4"
      },
      "source": [
        "df_airbnb[df_airbnb['name']=='New york Multi-unit building'].head(3) \n",
        "#same property but hosted by different Airbnb hosts with different room_types & varied price ranges"
      ],
      "execution_count": 16,
      "outputs": [
        {
          "output_type": "execute_result",
          "data": {
            "text/html": [
              "<div>\n",
              "<style scoped>\n",
              "    .dataframe tbody tr th:only-of-type {\n",
              "        vertical-align: middle;\n",
              "    }\n",
              "\n",
              "    .dataframe tbody tr th {\n",
              "        vertical-align: top;\n",
              "    }\n",
              "\n",
              "    .dataframe thead th {\n",
              "        text-align: right;\n",
              "    }\n",
              "</style>\n",
              "<table border=\"1\" class=\"dataframe\">\n",
              "  <thead>\n",
              "    <tr style=\"text-align: right;\">\n",
              "      <th></th>\n",
              "      <th>id</th>\n",
              "      <th>name</th>\n",
              "      <th>host_id</th>\n",
              "      <th>host_name</th>\n",
              "      <th>neighbourhood_group</th>\n",
              "      <th>neighbourhood</th>\n",
              "      <th>latitude</th>\n",
              "      <th>longitude</th>\n",
              "      <th>room_type</th>\n",
              "      <th>price</th>\n",
              "      <th>minimum_nights</th>\n",
              "      <th>number_of_reviews</th>\n",
              "      <th>last_review</th>\n",
              "      <th>reviews_per_month</th>\n",
              "      <th>calculated_host_listings_count</th>\n",
              "      <th>availability_365</th>\n",
              "    </tr>\n",
              "  </thead>\n",
              "  <tbody>\n",
              "    <tr>\n",
              "      <th>2751</th>\n",
              "      <td>1489426</td>\n",
              "      <td>New york Multi-unit building</td>\n",
              "      <td>7964729</td>\n",
              "      <td>Justin</td>\n",
              "      <td>Manhattan</td>\n",
              "      <td>Financial District</td>\n",
              "      <td>40.70582</td>\n",
              "      <td>-74.00888</td>\n",
              "      <td>Entire home/apt</td>\n",
              "      <td>390</td>\n",
              "      <td>3</td>\n",
              "      <td>1</td>\n",
              "      <td>2018-09-13</td>\n",
              "      <td>0.1</td>\n",
              "      <td>1</td>\n",
              "      <td>0</td>\n",
              "    </tr>\n",
              "    <tr>\n",
              "      <th>19016</th>\n",
              "      <td>15100883</td>\n",
              "      <td>New york Multi-unit building</td>\n",
              "      <td>95623284</td>\n",
              "      <td>Pablo</td>\n",
              "      <td>Bronx</td>\n",
              "      <td>Fordham</td>\n",
              "      <td>40.86533</td>\n",
              "      <td>-73.89713</td>\n",
              "      <td>Private room</td>\n",
              "      <td>40</td>\n",
              "      <td>3</td>\n",
              "      <td>1</td>\n",
              "      <td>2018-09-24</td>\n",
              "      <td>0.1</td>\n",
              "      <td>1</td>\n",
              "      <td>179</td>\n",
              "    </tr>\n",
              "    <tr>\n",
              "      <th>33473</th>\n",
              "      <td>26463879</td>\n",
              "      <td>New york Multi-unit building</td>\n",
              "      <td>21682640</td>\n",
              "      <td>Clarise</td>\n",
              "      <td>Brooklyn</td>\n",
              "      <td>Flatbush</td>\n",
              "      <td>40.64258</td>\n",
              "      <td>-73.95952</td>\n",
              "      <td>Private room</td>\n",
              "      <td>65</td>\n",
              "      <td>30</td>\n",
              "      <td>0</td>\n",
              "      <td>NaN</td>\n",
              "      <td>NaN</td>\n",
              "      <td>2</td>\n",
              "      <td>365</td>\n",
              "    </tr>\n",
              "  </tbody>\n",
              "</table>\n",
              "</div>"
            ],
            "text/plain": [
              "             id  ... availability_365\n",
              "2751    1489426  ...                0\n",
              "19016  15100883  ...              179\n",
              "33473  26463879  ...              365\n",
              "\n",
              "[3 rows x 16 columns]"
            ]
          },
          "metadata": {},
          "execution_count": 16
        }
      ]
    },
    {
      "cell_type": "code",
      "metadata": {
        "colab": {
          "base_uri": "https://localhost:8080/",
          "height": 1000
        },
        "id": "B7orEhumn5ug",
        "outputId": "f3c572cc-a8e4-48ef-e28e-2f0f3d130a66"
      },
      "source": [
        "df_airbnb.loc[(df_airbnb['neighbourhood_group']=='Manhattan') & (df_airbnb['host_name']=='Natasha')]\n",
        "\n",
        "#Same hosts have hosted for different properties in same neighbourhood groups"
      ],
      "execution_count": 17,
      "outputs": [
        {
          "output_type": "execute_result",
          "data": {
            "text/html": [
              "<div>\n",
              "<style scoped>\n",
              "    .dataframe tbody tr th:only-of-type {\n",
              "        vertical-align: middle;\n",
              "    }\n",
              "\n",
              "    .dataframe tbody tr th {\n",
              "        vertical-align: top;\n",
              "    }\n",
              "\n",
              "    .dataframe thead th {\n",
              "        text-align: right;\n",
              "    }\n",
              "</style>\n",
              "<table border=\"1\" class=\"dataframe\">\n",
              "  <thead>\n",
              "    <tr style=\"text-align: right;\">\n",
              "      <th></th>\n",
              "      <th>id</th>\n",
              "      <th>name</th>\n",
              "      <th>host_id</th>\n",
              "      <th>host_name</th>\n",
              "      <th>neighbourhood_group</th>\n",
              "      <th>neighbourhood</th>\n",
              "      <th>latitude</th>\n",
              "      <th>longitude</th>\n",
              "      <th>room_type</th>\n",
              "      <th>price</th>\n",
              "      <th>minimum_nights</th>\n",
              "      <th>number_of_reviews</th>\n",
              "      <th>last_review</th>\n",
              "      <th>reviews_per_month</th>\n",
              "      <th>calculated_host_listings_count</th>\n",
              "      <th>availability_365</th>\n",
              "    </tr>\n",
              "  </thead>\n",
              "  <tbody>\n",
              "    <tr>\n",
              "      <th>4702</th>\n",
              "      <td>3304307</td>\n",
              "      <td>Lovely Shiny Private Room in NYC</td>\n",
              "      <td>12465884</td>\n",
              "      <td>Natasha</td>\n",
              "      <td>Manhattan</td>\n",
              "      <td>East Harlem</td>\n",
              "      <td>40.79269</td>\n",
              "      <td>-73.94218</td>\n",
              "      <td>Private room</td>\n",
              "      <td>100</td>\n",
              "      <td>3</td>\n",
              "      <td>64</td>\n",
              "      <td>2019-06-01</td>\n",
              "      <td>1.05</td>\n",
              "      <td>1</td>\n",
              "      <td>219</td>\n",
              "    </tr>\n",
              "    <tr>\n",
              "      <th>4853</th>\n",
              "      <td>3458525</td>\n",
              "      <td>Modern &amp; Cozy 1BD Garden Apt</td>\n",
              "      <td>17430718</td>\n",
              "      <td>Natasha</td>\n",
              "      <td>Manhattan</td>\n",
              "      <td>Harlem</td>\n",
              "      <td>40.81511</td>\n",
              "      <td>-73.94315</td>\n",
              "      <td>Entire home/apt</td>\n",
              "      <td>115</td>\n",
              "      <td>3</td>\n",
              "      <td>64</td>\n",
              "      <td>2019-06-19</td>\n",
              "      <td>1.05</td>\n",
              "      <td>2</td>\n",
              "      <td>211</td>\n",
              "    </tr>\n",
              "    <tr>\n",
              "      <th>8686</th>\n",
              "      <td>6673630</td>\n",
              "      <td>Stylish L.E.S Studio</td>\n",
              "      <td>6591262</td>\n",
              "      <td>Natasha</td>\n",
              "      <td>Manhattan</td>\n",
              "      <td>Lower East Side</td>\n",
              "      <td>40.71661</td>\n",
              "      <td>-73.98916</td>\n",
              "      <td>Entire home/apt</td>\n",
              "      <td>150</td>\n",
              "      <td>3</td>\n",
              "      <td>1</td>\n",
              "      <td>2015-08-01</td>\n",
              "      <td>0.02</td>\n",
              "      <td>1</td>\n",
              "      <td>0</td>\n",
              "    </tr>\n",
              "    <tr>\n",
              "      <th>9376</th>\n",
              "      <td>7193201</td>\n",
              "      <td>Private RM in Heart of East Village</td>\n",
              "      <td>33739627</td>\n",
              "      <td>Natasha</td>\n",
              "      <td>Manhattan</td>\n",
              "      <td>East Village</td>\n",
              "      <td>40.72896</td>\n",
              "      <td>-73.98430</td>\n",
              "      <td>Private room</td>\n",
              "      <td>99</td>\n",
              "      <td>1</td>\n",
              "      <td>4</td>\n",
              "      <td>2015-10-24</td>\n",
              "      <td>0.08</td>\n",
              "      <td>1</td>\n",
              "      <td>0</td>\n",
              "    </tr>\n",
              "    <tr>\n",
              "      <th>10310</th>\n",
              "      <td>7894907</td>\n",
              "      <td>Cosy studio in East Village</td>\n",
              "      <td>1830864</td>\n",
              "      <td>Natasha</td>\n",
              "      <td>Manhattan</td>\n",
              "      <td>East Village</td>\n",
              "      <td>40.72395</td>\n",
              "      <td>-73.98001</td>\n",
              "      <td>Entire home/apt</td>\n",
              "      <td>150</td>\n",
              "      <td>2</td>\n",
              "      <td>25</td>\n",
              "      <td>2016-07-22</td>\n",
              "      <td>0.55</td>\n",
              "      <td>1</td>\n",
              "      <td>0</td>\n",
              "    </tr>\n",
              "    <tr>\n",
              "      <th>11344</th>\n",
              "      <td>8813547</td>\n",
              "      <td>For Christmas-Large New 1 BR Near Central Park</td>\n",
              "      <td>30350590</td>\n",
              "      <td>Natasha</td>\n",
              "      <td>Manhattan</td>\n",
              "      <td>Theater District</td>\n",
              "      <td>40.76268</td>\n",
              "      <td>-73.98407</td>\n",
              "      <td>Private room</td>\n",
              "      <td>230</td>\n",
              "      <td>5</td>\n",
              "      <td>10</td>\n",
              "      <td>2016-09-10</td>\n",
              "      <td>0.23</td>\n",
              "      <td>1</td>\n",
              "      <td>0</td>\n",
              "    </tr>\n",
              "    <tr>\n",
              "      <th>20061</th>\n",
              "      <td>16066223</td>\n",
              "      <td>Spacious, quiet 1 br apt in beautiful Inwood!</td>\n",
              "      <td>1713011</td>\n",
              "      <td>Natasha</td>\n",
              "      <td>Manhattan</td>\n",
              "      <td>Inwood</td>\n",
              "      <td>40.86757</td>\n",
              "      <td>-73.92699</td>\n",
              "      <td>Entire home/apt</td>\n",
              "      <td>89</td>\n",
              "      <td>14</td>\n",
              "      <td>14</td>\n",
              "      <td>2019-05-13</td>\n",
              "      <td>0.57</td>\n",
              "      <td>1</td>\n",
              "      <td>4</td>\n",
              "    </tr>\n",
              "    <tr>\n",
              "      <th>21145</th>\n",
              "      <td>16779705</td>\n",
              "      <td>Cozy West Village Studio</td>\n",
              "      <td>11699846</td>\n",
              "      <td>Natasha</td>\n",
              "      <td>Manhattan</td>\n",
              "      <td>Greenwich Village</td>\n",
              "      <td>40.73239</td>\n",
              "      <td>-73.99960</td>\n",
              "      <td>Entire home/apt</td>\n",
              "      <td>103</td>\n",
              "      <td>2</td>\n",
              "      <td>15</td>\n",
              "      <td>2018-10-28</td>\n",
              "      <td>0.57</td>\n",
              "      <td>1</td>\n",
              "      <td>0</td>\n",
              "    </tr>\n",
              "    <tr>\n",
              "      <th>22125</th>\n",
              "      <td>17808917</td>\n",
              "      <td>Gorgeous &amp; Spacious UES apartment</td>\n",
              "      <td>85218001</td>\n",
              "      <td>Natasha</td>\n",
              "      <td>Manhattan</td>\n",
              "      <td>Upper East Side</td>\n",
              "      <td>40.77666</td>\n",
              "      <td>-73.95618</td>\n",
              "      <td>Private room</td>\n",
              "      <td>105</td>\n",
              "      <td>2</td>\n",
              "      <td>8</td>\n",
              "      <td>2018-06-16</td>\n",
              "      <td>0.30</td>\n",
              "      <td>1</td>\n",
              "      <td>0</td>\n",
              "    </tr>\n",
              "    <tr>\n",
              "      <th>24200</th>\n",
              "      <td>19499668</td>\n",
              "      <td>Cozy Sofa Bed in Upper Manhattan</td>\n",
              "      <td>3372118</td>\n",
              "      <td>Natasha</td>\n",
              "      <td>Manhattan</td>\n",
              "      <td>Washington Heights</td>\n",
              "      <td>40.84133</td>\n",
              "      <td>-73.93739</td>\n",
              "      <td>Shared room</td>\n",
              "      <td>50</td>\n",
              "      <td>1</td>\n",
              "      <td>21</td>\n",
              "      <td>2019-06-15</td>\n",
              "      <td>0.86</td>\n",
              "      <td>1</td>\n",
              "      <td>188</td>\n",
              "    </tr>\n",
              "    <tr>\n",
              "      <th>28787</th>\n",
              "      <td>22231811</td>\n",
              "      <td>Stylish &amp; Spacious 1BD in Central Harlem!</td>\n",
              "      <td>17430718</td>\n",
              "      <td>Natasha</td>\n",
              "      <td>Manhattan</td>\n",
              "      <td>Harlem</td>\n",
              "      <td>40.81537</td>\n",
              "      <td>-73.94067</td>\n",
              "      <td>Entire home/apt</td>\n",
              "      <td>135</td>\n",
              "      <td>3</td>\n",
              "      <td>21</td>\n",
              "      <td>2019-06-10</td>\n",
              "      <td>1.13</td>\n",
              "      <td>2</td>\n",
              "      <td>75</td>\n",
              "    </tr>\n",
              "    <tr>\n",
              "      <th>39111</th>\n",
              "      <td>30528541</td>\n",
              "      <td>New york Multi-unit building</td>\n",
              "      <td>95575605</td>\n",
              "      <td>Natasha</td>\n",
              "      <td>Manhattan</td>\n",
              "      <td>Chelsea</td>\n",
              "      <td>40.74726</td>\n",
              "      <td>-73.99029</td>\n",
              "      <td>Entire home/apt</td>\n",
              "      <td>250</td>\n",
              "      <td>7</td>\n",
              "      <td>0</td>\n",
              "      <td>NaN</td>\n",
              "      <td>NaN</td>\n",
              "      <td>1</td>\n",
              "      <td>0</td>\n",
              "    </tr>\n",
              "    <tr>\n",
              "      <th>40611</th>\n",
              "      <td>31494165</td>\n",
              "      <td>Sunny Cosy Private Room Hell's Kitchen &amp; Broadway</td>\n",
              "      <td>33464426</td>\n",
              "      <td>Natasha</td>\n",
              "      <td>Manhattan</td>\n",
              "      <td>Hell's Kitchen</td>\n",
              "      <td>40.76453</td>\n",
              "      <td>-73.98527</td>\n",
              "      <td>Private room</td>\n",
              "      <td>80</td>\n",
              "      <td>3</td>\n",
              "      <td>8</td>\n",
              "      <td>2019-05-29</td>\n",
              "      <td>1.40</td>\n",
              "      <td>1</td>\n",
              "      <td>0</td>\n",
              "    </tr>\n",
              "    <tr>\n",
              "      <th>42630</th>\n",
              "      <td>33094220</td>\n",
              "      <td>Bright and Quiet near Union Square in the Village</td>\n",
              "      <td>249069377</td>\n",
              "      <td>Natasha</td>\n",
              "      <td>Manhattan</td>\n",
              "      <td>Greenwich Village</td>\n",
              "      <td>40.73424</td>\n",
              "      <td>-73.99355</td>\n",
              "      <td>Private room</td>\n",
              "      <td>120</td>\n",
              "      <td>1</td>\n",
              "      <td>7</td>\n",
              "      <td>2019-06-12</td>\n",
              "      <td>1.96</td>\n",
              "      <td>1</td>\n",
              "      <td>13</td>\n",
              "    </tr>\n",
              "    <tr>\n",
              "      <th>48452</th>\n",
              "      <td>36272531</td>\n",
              "      <td>Charming TriBeCa Loft - Avail for Summer</td>\n",
              "      <td>194377959</td>\n",
              "      <td>Natasha</td>\n",
              "      <td>Manhattan</td>\n",
              "      <td>Tribeca</td>\n",
              "      <td>40.72262</td>\n",
              "      <td>-74.00861</td>\n",
              "      <td>Entire home/apt</td>\n",
              "      <td>250</td>\n",
              "      <td>21</td>\n",
              "      <td>0</td>\n",
              "      <td>NaN</td>\n",
              "      <td>NaN</td>\n",
              "      <td>1</td>\n",
              "      <td>66</td>\n",
              "    </tr>\n",
              "    <tr>\n",
              "      <th>48749</th>\n",
              "      <td>36417643</td>\n",
              "      <td>Luxury private room apt near Central Park (UES)</td>\n",
              "      <td>49796302</td>\n",
              "      <td>Natasha</td>\n",
              "      <td>Manhattan</td>\n",
              "      <td>East Harlem</td>\n",
              "      <td>40.79339</td>\n",
              "      <td>-73.93784</td>\n",
              "      <td>Private room</td>\n",
              "      <td>150</td>\n",
              "      <td>1</td>\n",
              "      <td>0</td>\n",
              "      <td>NaN</td>\n",
              "      <td>NaN</td>\n",
              "      <td>1</td>\n",
              "      <td>265</td>\n",
              "    </tr>\n",
              "  </tbody>\n",
              "</table>\n",
              "</div>"
            ],
            "text/plain": [
              "             id  ... availability_365\n",
              "4702    3304307  ...              219\n",
              "4853    3458525  ...              211\n",
              "8686    6673630  ...                0\n",
              "9376    7193201  ...                0\n",
              "10310   7894907  ...                0\n",
              "11344   8813547  ...                0\n",
              "20061  16066223  ...                4\n",
              "21145  16779705  ...                0\n",
              "22125  17808917  ...                0\n",
              "24200  19499668  ...              188\n",
              "28787  22231811  ...               75\n",
              "39111  30528541  ...                0\n",
              "40611  31494165  ...                0\n",
              "42630  33094220  ...               13\n",
              "48452  36272531  ...               66\n",
              "48749  36417643  ...              265\n",
              "\n",
              "[16 rows x 16 columns]"
            ]
          },
          "metadata": {},
          "execution_count": 17
        }
      ]
    },
    {
      "cell_type": "code",
      "metadata": {
        "colab": {
          "base_uri": "https://localhost:8080/",
          "height": 1000
        },
        "id": "C7UKG0HSSfJz",
        "outputId": "510e2be8-bed6-4f1d-8563-276e38ec959d"
      },
      "source": [
        "# there are few listings where the property name and the host have same names\n",
        "df_airbnb[df_airbnb['name']==df_airbnb['host_name']]"
      ],
      "execution_count": 18,
      "outputs": [
        {
          "output_type": "execute_result",
          "data": {
            "text/html": [
              "<div>\n",
              "<style scoped>\n",
              "    .dataframe tbody tr th:only-of-type {\n",
              "        vertical-align: middle;\n",
              "    }\n",
              "\n",
              "    .dataframe tbody tr th {\n",
              "        vertical-align: top;\n",
              "    }\n",
              "\n",
              "    .dataframe thead th {\n",
              "        text-align: right;\n",
              "    }\n",
              "</style>\n",
              "<table border=\"1\" class=\"dataframe\">\n",
              "  <thead>\n",
              "    <tr style=\"text-align: right;\">\n",
              "      <th></th>\n",
              "      <th>id</th>\n",
              "      <th>name</th>\n",
              "      <th>host_id</th>\n",
              "      <th>host_name</th>\n",
              "      <th>neighbourhood_group</th>\n",
              "      <th>neighbourhood</th>\n",
              "      <th>latitude</th>\n",
              "      <th>longitude</th>\n",
              "      <th>room_type</th>\n",
              "      <th>price</th>\n",
              "      <th>minimum_nights</th>\n",
              "      <th>number_of_reviews</th>\n",
              "      <th>last_review</th>\n",
              "      <th>reviews_per_month</th>\n",
              "      <th>calculated_host_listings_count</th>\n",
              "      <th>availability_365</th>\n",
              "    </tr>\n",
              "  </thead>\n",
              "  <tbody>\n",
              "    <tr>\n",
              "      <th>9473</th>\n",
              "      <td>7264659</td>\n",
              "      <td>Olivier</td>\n",
              "      <td>6994503</td>\n",
              "      <td>Olivier</td>\n",
              "      <td>Manhattan</td>\n",
              "      <td>Upper West Side</td>\n",
              "      <td>40.78931</td>\n",
              "      <td>-73.97520</td>\n",
              "      <td>Entire home/apt</td>\n",
              "      <td>200</td>\n",
              "      <td>5</td>\n",
              "      <td>12</td>\n",
              "      <td>2018-01-30</td>\n",
              "      <td>0.25</td>\n",
              "      <td>1</td>\n",
              "      <td>25</td>\n",
              "    </tr>\n",
              "    <tr>\n",
              "      <th>10682</th>\n",
              "      <td>8212051</td>\n",
              "      <td>Monty</td>\n",
              "      <td>43302952</td>\n",
              "      <td>Monty</td>\n",
              "      <td>Brooklyn</td>\n",
              "      <td>East Flatbush</td>\n",
              "      <td>40.66383</td>\n",
              "      <td>-73.92706</td>\n",
              "      <td>Shared room</td>\n",
              "      <td>95</td>\n",
              "      <td>2</td>\n",
              "      <td>7</td>\n",
              "      <td>2015-10-30</td>\n",
              "      <td>0.15</td>\n",
              "      <td>1</td>\n",
              "      <td>238</td>\n",
              "    </tr>\n",
              "    <tr>\n",
              "      <th>16422</th>\n",
              "      <td>13186374</td>\n",
              "      <td>Sean</td>\n",
              "      <td>35143476</td>\n",
              "      <td>Sean</td>\n",
              "      <td>Brooklyn</td>\n",
              "      <td>Windsor Terrace</td>\n",
              "      <td>40.65182</td>\n",
              "      <td>-73.98043</td>\n",
              "      <td>Entire home/apt</td>\n",
              "      <td>400</td>\n",
              "      <td>7</td>\n",
              "      <td>0</td>\n",
              "      <td>NaN</td>\n",
              "      <td>NaN</td>\n",
              "      <td>1</td>\n",
              "      <td>0</td>\n",
              "    </tr>\n",
              "    <tr>\n",
              "      <th>23996</th>\n",
              "      <td>19348168</td>\n",
              "      <td>Cyn</td>\n",
              "      <td>74033595</td>\n",
              "      <td>Cyn</td>\n",
              "      <td>Brooklyn</td>\n",
              "      <td>Bedford-Stuyvesant</td>\n",
              "      <td>40.67850</td>\n",
              "      <td>-73.91478</td>\n",
              "      <td>Private room</td>\n",
              "      <td>75</td>\n",
              "      <td>2</td>\n",
              "      <td>1</td>\n",
              "      <td>2018-09-10</td>\n",
              "      <td>0.10</td>\n",
              "      <td>1</td>\n",
              "      <td>0</td>\n",
              "    </tr>\n",
              "    <tr>\n",
              "      <th>24152</th>\n",
              "      <td>19456810</td>\n",
              "      <td>Hillside Hotel</td>\n",
              "      <td>134184451</td>\n",
              "      <td>Hillside Hotel</td>\n",
              "      <td>Queens</td>\n",
              "      <td>Briarwood</td>\n",
              "      <td>40.70454</td>\n",
              "      <td>-73.81549</td>\n",
              "      <td>Private room</td>\n",
              "      <td>93</td>\n",
              "      <td>1</td>\n",
              "      <td>2</td>\n",
              "      <td>2017-07-23</td>\n",
              "      <td>0.08</td>\n",
              "      <td>18</td>\n",
              "      <td>90</td>\n",
              "    </tr>\n",
              "    <tr>\n",
              "      <th>24607</th>\n",
              "      <td>19785737</td>\n",
              "      <td>Hillside Hotel</td>\n",
              "      <td>134184451</td>\n",
              "      <td>Hillside Hotel</td>\n",
              "      <td>Queens</td>\n",
              "      <td>Jamaica</td>\n",
              "      <td>40.70445</td>\n",
              "      <td>-73.81399</td>\n",
              "      <td>Private room</td>\n",
              "      <td>135</td>\n",
              "      <td>1</td>\n",
              "      <td>1</td>\n",
              "      <td>2017-10-08</td>\n",
              "      <td>0.05</td>\n",
              "      <td>18</td>\n",
              "      <td>180</td>\n",
              "    </tr>\n",
              "    <tr>\n",
              "      <th>26734</th>\n",
              "      <td>21231543</td>\n",
              "      <td>Hillside Hotel</td>\n",
              "      <td>134184451</td>\n",
              "      <td>Hillside Hotel</td>\n",
              "      <td>Queens</td>\n",
              "      <td>Jamaica</td>\n",
              "      <td>40.70428</td>\n",
              "      <td>-73.81353</td>\n",
              "      <td>Private room</td>\n",
              "      <td>135</td>\n",
              "      <td>1</td>\n",
              "      <td>0</td>\n",
              "      <td>NaN</td>\n",
              "      <td>NaN</td>\n",
              "      <td>18</td>\n",
              "      <td>365</td>\n",
              "    </tr>\n",
              "    <tr>\n",
              "      <th>26752</th>\n",
              "      <td>21243952</td>\n",
              "      <td>Hillside Hotel</td>\n",
              "      <td>134184451</td>\n",
              "      <td>Hillside Hotel</td>\n",
              "      <td>Queens</td>\n",
              "      <td>Jamaica</td>\n",
              "      <td>40.70288</td>\n",
              "      <td>-73.81531</td>\n",
              "      <td>Private room</td>\n",
              "      <td>135</td>\n",
              "      <td>1</td>\n",
              "      <td>1</td>\n",
              "      <td>2018-01-02</td>\n",
              "      <td>0.05</td>\n",
              "      <td>18</td>\n",
              "      <td>365</td>\n",
              "    </tr>\n",
              "    <tr>\n",
              "      <th>26753</th>\n",
              "      <td>21244035</td>\n",
              "      <td>Hillside Hotel</td>\n",
              "      <td>134184451</td>\n",
              "      <td>Hillside Hotel</td>\n",
              "      <td>Queens</td>\n",
              "      <td>Jamaica</td>\n",
              "      <td>40.70319</td>\n",
              "      <td>-73.81410</td>\n",
              "      <td>Private room</td>\n",
              "      <td>135</td>\n",
              "      <td>1</td>\n",
              "      <td>2</td>\n",
              "      <td>2018-06-10</td>\n",
              "      <td>0.09</td>\n",
              "      <td>18</td>\n",
              "      <td>365</td>\n",
              "    </tr>\n",
              "    <tr>\n",
              "      <th>26889</th>\n",
              "      <td>21311903</td>\n",
              "      <td>Hillside Hotel</td>\n",
              "      <td>134184451</td>\n",
              "      <td>Hillside Hotel</td>\n",
              "      <td>Queens</td>\n",
              "      <td>Jamaica</td>\n",
              "      <td>40.70258</td>\n",
              "      <td>-73.81510</td>\n",
              "      <td>Private room</td>\n",
              "      <td>135</td>\n",
              "      <td>1</td>\n",
              "      <td>0</td>\n",
              "      <td>NaN</td>\n",
              "      <td>NaN</td>\n",
              "      <td>18</td>\n",
              "      <td>365</td>\n",
              "    </tr>\n",
              "    <tr>\n",
              "      <th>26891</th>\n",
              "      <td>21312075</td>\n",
              "      <td>Hillside Hotel</td>\n",
              "      <td>134184451</td>\n",
              "      <td>Hillside Hotel</td>\n",
              "      <td>Queens</td>\n",
              "      <td>Jamaica</td>\n",
              "      <td>40.70333</td>\n",
              "      <td>-73.81380</td>\n",
              "      <td>Private room</td>\n",
              "      <td>135</td>\n",
              "      <td>1</td>\n",
              "      <td>0</td>\n",
              "      <td>NaN</td>\n",
              "      <td>NaN</td>\n",
              "      <td>18</td>\n",
              "      <td>365</td>\n",
              "    </tr>\n",
              "    <tr>\n",
              "      <th>26892</th>\n",
              "      <td>21312191</td>\n",
              "      <td>Hillside Hotel</td>\n",
              "      <td>134184451</td>\n",
              "      <td>Hillside Hotel</td>\n",
              "      <td>Queens</td>\n",
              "      <td>Jamaica</td>\n",
              "      <td>40.70259</td>\n",
              "      <td>-73.81415</td>\n",
              "      <td>Private room</td>\n",
              "      <td>135</td>\n",
              "      <td>1</td>\n",
              "      <td>0</td>\n",
              "      <td>NaN</td>\n",
              "      <td>NaN</td>\n",
              "      <td>18</td>\n",
              "      <td>365</td>\n",
              "    </tr>\n",
              "    <tr>\n",
              "      <th>26893</th>\n",
              "      <td>21312225</td>\n",
              "      <td>Hillside Hotel</td>\n",
              "      <td>134184451</td>\n",
              "      <td>Hillside Hotel</td>\n",
              "      <td>Queens</td>\n",
              "      <td>Jamaica</td>\n",
              "      <td>40.70262</td>\n",
              "      <td>-73.81526</td>\n",
              "      <td>Private room</td>\n",
              "      <td>135</td>\n",
              "      <td>1</td>\n",
              "      <td>1</td>\n",
              "      <td>2017-12-10</td>\n",
              "      <td>0.05</td>\n",
              "      <td>18</td>\n",
              "      <td>365</td>\n",
              "    </tr>\n",
              "    <tr>\n",
              "      <th>26894</th>\n",
              "      <td>21312283</td>\n",
              "      <td>Hillside Hotel</td>\n",
              "      <td>134184451</td>\n",
              "      <td>Hillside Hotel</td>\n",
              "      <td>Queens</td>\n",
              "      <td>Briarwood</td>\n",
              "      <td>40.70450</td>\n",
              "      <td>-73.81447</td>\n",
              "      <td>Private room</td>\n",
              "      <td>135</td>\n",
              "      <td>1</td>\n",
              "      <td>0</td>\n",
              "      <td>NaN</td>\n",
              "      <td>NaN</td>\n",
              "      <td>18</td>\n",
              "      <td>355</td>\n",
              "    </tr>\n",
              "    <tr>\n",
              "      <th>26895</th>\n",
              "      <td>21312330</td>\n",
              "      <td>Hillside Hotel</td>\n",
              "      <td>134184451</td>\n",
              "      <td>Hillside Hotel</td>\n",
              "      <td>Queens</td>\n",
              "      <td>Briarwood</td>\n",
              "      <td>40.70458</td>\n",
              "      <td>-73.81418</td>\n",
              "      <td>Private room</td>\n",
              "      <td>135</td>\n",
              "      <td>1</td>\n",
              "      <td>0</td>\n",
              "      <td>NaN</td>\n",
              "      <td>NaN</td>\n",
              "      <td>18</td>\n",
              "      <td>355</td>\n",
              "    </tr>\n",
              "    <tr>\n",
              "      <th>26896</th>\n",
              "      <td>21312403</td>\n",
              "      <td>Hillside Hotel</td>\n",
              "      <td>134184451</td>\n",
              "      <td>Hillside Hotel</td>\n",
              "      <td>Queens</td>\n",
              "      <td>Jamaica</td>\n",
              "      <td>40.70423</td>\n",
              "      <td>-73.81440</td>\n",
              "      <td>Private room</td>\n",
              "      <td>165</td>\n",
              "      <td>1</td>\n",
              "      <td>0</td>\n",
              "      <td>NaN</td>\n",
              "      <td>NaN</td>\n",
              "      <td>18</td>\n",
              "      <td>362</td>\n",
              "    </tr>\n",
              "    <tr>\n",
              "      <th>26897</th>\n",
              "      <td>21312440</td>\n",
              "      <td>Hillside Hotel</td>\n",
              "      <td>134184451</td>\n",
              "      <td>Hillside Hotel</td>\n",
              "      <td>Queens</td>\n",
              "      <td>Jamaica</td>\n",
              "      <td>40.70269</td>\n",
              "      <td>-73.81585</td>\n",
              "      <td>Private room</td>\n",
              "      <td>165</td>\n",
              "      <td>1</td>\n",
              "      <td>0</td>\n",
              "      <td>NaN</td>\n",
              "      <td>NaN</td>\n",
              "      <td>18</td>\n",
              "      <td>360</td>\n",
              "    </tr>\n",
              "    <tr>\n",
              "      <th>26898</th>\n",
              "      <td>21312495</td>\n",
              "      <td>Hillside Hotel</td>\n",
              "      <td>134184451</td>\n",
              "      <td>Hillside Hotel</td>\n",
              "      <td>Queens</td>\n",
              "      <td>Jamaica</td>\n",
              "      <td>40.70426</td>\n",
              "      <td>-73.81509</td>\n",
              "      <td>Private room</td>\n",
              "      <td>165</td>\n",
              "      <td>1</td>\n",
              "      <td>0</td>\n",
              "      <td>NaN</td>\n",
              "      <td>NaN</td>\n",
              "      <td>18</td>\n",
              "      <td>362</td>\n",
              "    </tr>\n",
              "    <tr>\n",
              "      <th>26899</th>\n",
              "      <td>21312549</td>\n",
              "      <td>Hillside Hotel</td>\n",
              "      <td>134184451</td>\n",
              "      <td>Hillside Hotel</td>\n",
              "      <td>Queens</td>\n",
              "      <td>Jamaica</td>\n",
              "      <td>40.70262</td>\n",
              "      <td>-73.81579</td>\n",
              "      <td>Private room</td>\n",
              "      <td>165</td>\n",
              "      <td>1</td>\n",
              "      <td>0</td>\n",
              "      <td>NaN</td>\n",
              "      <td>NaN</td>\n",
              "      <td>18</td>\n",
              "      <td>355</td>\n",
              "    </tr>\n",
              "    <tr>\n",
              "      <th>26900</th>\n",
              "      <td>21312595</td>\n",
              "      <td>Hillside Hotel</td>\n",
              "      <td>134184451</td>\n",
              "      <td>Hillside Hotel</td>\n",
              "      <td>Queens</td>\n",
              "      <td>Briarwood</td>\n",
              "      <td>40.70475</td>\n",
              "      <td>-73.81572</td>\n",
              "      <td>Private room</td>\n",
              "      <td>165</td>\n",
              "      <td>1</td>\n",
              "      <td>2</td>\n",
              "      <td>2018-01-01</td>\n",
              "      <td>0.09</td>\n",
              "      <td>18</td>\n",
              "      <td>355</td>\n",
              "    </tr>\n",
              "    <tr>\n",
              "      <th>26901</th>\n",
              "      <td>21312687</td>\n",
              "      <td>Hillside Hotel</td>\n",
              "      <td>134184451</td>\n",
              "      <td>Hillside Hotel</td>\n",
              "      <td>Queens</td>\n",
              "      <td>Briarwood</td>\n",
              "      <td>40.70471</td>\n",
              "      <td>-73.81542</td>\n",
              "      <td>Private room</td>\n",
              "      <td>135</td>\n",
              "      <td>1</td>\n",
              "      <td>3</td>\n",
              "      <td>2018-01-01</td>\n",
              "      <td>0.15</td>\n",
              "      <td>18</td>\n",
              "      <td>319</td>\n",
              "    </tr>\n",
              "    <tr>\n",
              "      <th>26902</th>\n",
              "      <td>21312732</td>\n",
              "      <td>Hillside Hotel</td>\n",
              "      <td>134184451</td>\n",
              "      <td>Hillside Hotel</td>\n",
              "      <td>Queens</td>\n",
              "      <td>Briarwood</td>\n",
              "      <td>40.70455</td>\n",
              "      <td>-73.81528</td>\n",
              "      <td>Private room</td>\n",
              "      <td>135</td>\n",
              "      <td>1</td>\n",
              "      <td>0</td>\n",
              "      <td>NaN</td>\n",
              "      <td>NaN</td>\n",
              "      <td>18</td>\n",
              "      <td>309</td>\n",
              "    </tr>\n",
              "    <tr>\n",
              "      <th>27186</th>\n",
              "      <td>21488093</td>\n",
              "      <td>Rod</td>\n",
              "      <td>128142697</td>\n",
              "      <td>Rod</td>\n",
              "      <td>Manhattan</td>\n",
              "      <td>Upper East Side</td>\n",
              "      <td>40.76719</td>\n",
              "      <td>-73.96973</td>\n",
              "      <td>Entire home/apt</td>\n",
              "      <td>750</td>\n",
              "      <td>4</td>\n",
              "      <td>0</td>\n",
              "      <td>NaN</td>\n",
              "      <td>NaN</td>\n",
              "      <td>2</td>\n",
              "      <td>0</td>\n",
              "    </tr>\n",
              "    <tr>\n",
              "      <th>33964</th>\n",
              "      <td>26895166</td>\n",
              "      <td>2018Serenity</td>\n",
              "      <td>202318295</td>\n",
              "      <td>2018Serenity</td>\n",
              "      <td>Manhattan</td>\n",
              "      <td>East Harlem</td>\n",
              "      <td>40.79424</td>\n",
              "      <td>-73.94290</td>\n",
              "      <td>Private room</td>\n",
              "      <td>50</td>\n",
              "      <td>5</td>\n",
              "      <td>4</td>\n",
              "      <td>2019-06-22</td>\n",
              "      <td>0.39</td>\n",
              "      <td>1</td>\n",
              "      <td>32</td>\n",
              "    </tr>\n",
              "    <tr>\n",
              "      <th>43564</th>\n",
              "      <td>33718254</td>\n",
              "      <td>Imperial</td>\n",
              "      <td>249479517</td>\n",
              "      <td>Imperial</td>\n",
              "      <td>Bronx</td>\n",
              "      <td>Soundview</td>\n",
              "      <td>40.82864</td>\n",
              "      <td>-73.87609</td>\n",
              "      <td>Private room</td>\n",
              "      <td>45</td>\n",
              "      <td>2</td>\n",
              "      <td>6</td>\n",
              "      <td>2019-06-21</td>\n",
              "      <td>2.28</td>\n",
              "      <td>2</td>\n",
              "      <td>24</td>\n",
              "    </tr>\n",
              "    <tr>\n",
              "      <th>45510</th>\n",
              "      <td>34803347</td>\n",
              "      <td>Yu</td>\n",
              "      <td>197052947</td>\n",
              "      <td>Yu</td>\n",
              "      <td>Manhattan</td>\n",
              "      <td>Roosevelt Island</td>\n",
              "      <td>40.76417</td>\n",
              "      <td>-73.94865</td>\n",
              "      <td>Shared room</td>\n",
              "      <td>55</td>\n",
              "      <td>7</td>\n",
              "      <td>0</td>\n",
              "      <td>NaN</td>\n",
              "      <td>NaN</td>\n",
              "      <td>1</td>\n",
              "      <td>38</td>\n",
              "    </tr>\n",
              "  </tbody>\n",
              "</table>\n",
              "</div>"
            ],
            "text/plain": [
              "             id  ... availability_365\n",
              "9473    7264659  ...               25\n",
              "10682   8212051  ...              238\n",
              "16422  13186374  ...                0\n",
              "23996  19348168  ...                0\n",
              "24152  19456810  ...               90\n",
              "24607  19785737  ...              180\n",
              "26734  21231543  ...              365\n",
              "26752  21243952  ...              365\n",
              "26753  21244035  ...              365\n",
              "26889  21311903  ...              365\n",
              "26891  21312075  ...              365\n",
              "26892  21312191  ...              365\n",
              "26893  21312225  ...              365\n",
              "26894  21312283  ...              355\n",
              "26895  21312330  ...              355\n",
              "26896  21312403  ...              362\n",
              "26897  21312440  ...              360\n",
              "26898  21312495  ...              362\n",
              "26899  21312549  ...              355\n",
              "26900  21312595  ...              355\n",
              "26901  21312687  ...              319\n",
              "26902  21312732  ...              309\n",
              "27186  21488093  ...                0\n",
              "33964  26895166  ...               32\n",
              "43564  33718254  ...               24\n",
              "45510  34803347  ...               38\n",
              "\n",
              "[26 rows x 16 columns]"
            ]
          },
          "metadata": {},
          "execution_count": 18
        }
      ]
    },
    {
      "cell_type": "markdown",
      "metadata": {
        "id": "KuvNUlNLbfgU"
      },
      "source": [
        "So, far I was trying to understand the two variables: name and host_name & its relationship with neighbourhood_group and neighbourhood.\n",
        "\n",
        "Found out that: A host can have multiple properties in a neighbourhood group with different host-ids but a host with a particular property/listing in a particular neighbourhood of a neighbourhood group have a same host-id(not mandatory as there are exceptions where few hosts have diferrent id's for each listing/property in a neighbourhood)\n",
        "\n",
        "Also the data so far tells, there might be cases where a particular host has co-hosted someone else's property/listing in a neighbourhood on Airbnb.\n",
        "\n",
        "We'll not bother much as these are not that important in our analysis and proceed further!"
      ]
    },
    {
      "cell_type": "code",
      "metadata": {
        "id": "L1rwxfgiU0x4"
      },
      "source": [
        ""
      ],
      "execution_count": 18,
      "outputs": []
    },
    {
      "cell_type": "code",
      "metadata": {
        "id": "KofrvUNXXujG",
        "colab": {
          "base_uri": "https://localhost:8080/",
          "height": 297
        },
        "outputId": "99ce4278-2133-4e08-c3e2-e7931d9dca3a"
      },
      "source": [
        "#  to find numerical veriables(overall summary)\n",
        "df_airbnb.describe()"
      ],
      "execution_count": 19,
      "outputs": [
        {
          "output_type": "execute_result",
          "data": {
            "text/html": [
              "<div>\n",
              "<style scoped>\n",
              "    .dataframe tbody tr th:only-of-type {\n",
              "        vertical-align: middle;\n",
              "    }\n",
              "\n",
              "    .dataframe tbody tr th {\n",
              "        vertical-align: top;\n",
              "    }\n",
              "\n",
              "    .dataframe thead th {\n",
              "        text-align: right;\n",
              "    }\n",
              "</style>\n",
              "<table border=\"1\" class=\"dataframe\">\n",
              "  <thead>\n",
              "    <tr style=\"text-align: right;\">\n",
              "      <th></th>\n",
              "      <th>id</th>\n",
              "      <th>host_id</th>\n",
              "      <th>latitude</th>\n",
              "      <th>longitude</th>\n",
              "      <th>price</th>\n",
              "      <th>minimum_nights</th>\n",
              "      <th>number_of_reviews</th>\n",
              "      <th>reviews_per_month</th>\n",
              "      <th>calculated_host_listings_count</th>\n",
              "      <th>availability_365</th>\n",
              "    </tr>\n",
              "  </thead>\n",
              "  <tbody>\n",
              "    <tr>\n",
              "      <th>count</th>\n",
              "      <td>4.889500e+04</td>\n",
              "      <td>4.889500e+04</td>\n",
              "      <td>48895.000000</td>\n",
              "      <td>48895.000000</td>\n",
              "      <td>48895.000000</td>\n",
              "      <td>48895.000000</td>\n",
              "      <td>48895.000000</td>\n",
              "      <td>38843.000000</td>\n",
              "      <td>48895.000000</td>\n",
              "      <td>48895.000000</td>\n",
              "    </tr>\n",
              "    <tr>\n",
              "      <th>mean</th>\n",
              "      <td>1.901714e+07</td>\n",
              "      <td>6.762001e+07</td>\n",
              "      <td>40.728949</td>\n",
              "      <td>-73.952170</td>\n",
              "      <td>152.720687</td>\n",
              "      <td>7.029962</td>\n",
              "      <td>23.274466</td>\n",
              "      <td>1.373221</td>\n",
              "      <td>7.143982</td>\n",
              "      <td>112.781327</td>\n",
              "    </tr>\n",
              "    <tr>\n",
              "      <th>std</th>\n",
              "      <td>1.098311e+07</td>\n",
              "      <td>7.861097e+07</td>\n",
              "      <td>0.054530</td>\n",
              "      <td>0.046157</td>\n",
              "      <td>240.154170</td>\n",
              "      <td>20.510550</td>\n",
              "      <td>44.550582</td>\n",
              "      <td>1.680442</td>\n",
              "      <td>32.952519</td>\n",
              "      <td>131.622289</td>\n",
              "    </tr>\n",
              "    <tr>\n",
              "      <th>min</th>\n",
              "      <td>2.539000e+03</td>\n",
              "      <td>2.438000e+03</td>\n",
              "      <td>40.499790</td>\n",
              "      <td>-74.244420</td>\n",
              "      <td>0.000000</td>\n",
              "      <td>1.000000</td>\n",
              "      <td>0.000000</td>\n",
              "      <td>0.010000</td>\n",
              "      <td>1.000000</td>\n",
              "      <td>0.000000</td>\n",
              "    </tr>\n",
              "    <tr>\n",
              "      <th>25%</th>\n",
              "      <td>9.471945e+06</td>\n",
              "      <td>7.822033e+06</td>\n",
              "      <td>40.690100</td>\n",
              "      <td>-73.983070</td>\n",
              "      <td>69.000000</td>\n",
              "      <td>1.000000</td>\n",
              "      <td>1.000000</td>\n",
              "      <td>0.190000</td>\n",
              "      <td>1.000000</td>\n",
              "      <td>0.000000</td>\n",
              "    </tr>\n",
              "    <tr>\n",
              "      <th>50%</th>\n",
              "      <td>1.967728e+07</td>\n",
              "      <td>3.079382e+07</td>\n",
              "      <td>40.723070</td>\n",
              "      <td>-73.955680</td>\n",
              "      <td>106.000000</td>\n",
              "      <td>3.000000</td>\n",
              "      <td>5.000000</td>\n",
              "      <td>0.720000</td>\n",
              "      <td>1.000000</td>\n",
              "      <td>45.000000</td>\n",
              "    </tr>\n",
              "    <tr>\n",
              "      <th>75%</th>\n",
              "      <td>2.915218e+07</td>\n",
              "      <td>1.074344e+08</td>\n",
              "      <td>40.763115</td>\n",
              "      <td>-73.936275</td>\n",
              "      <td>175.000000</td>\n",
              "      <td>5.000000</td>\n",
              "      <td>24.000000</td>\n",
              "      <td>2.020000</td>\n",
              "      <td>2.000000</td>\n",
              "      <td>227.000000</td>\n",
              "    </tr>\n",
              "    <tr>\n",
              "      <th>max</th>\n",
              "      <td>3.648724e+07</td>\n",
              "      <td>2.743213e+08</td>\n",
              "      <td>40.913060</td>\n",
              "      <td>-73.712990</td>\n",
              "      <td>10000.000000</td>\n",
              "      <td>1250.000000</td>\n",
              "      <td>629.000000</td>\n",
              "      <td>58.500000</td>\n",
              "      <td>327.000000</td>\n",
              "      <td>365.000000</td>\n",
              "    </tr>\n",
              "  </tbody>\n",
              "</table>\n",
              "</div>"
            ],
            "text/plain": [
              "                 id  ...  availability_365\n",
              "count  4.889500e+04  ...      48895.000000\n",
              "mean   1.901714e+07  ...        112.781327\n",
              "std    1.098311e+07  ...        131.622289\n",
              "min    2.539000e+03  ...          0.000000\n",
              "25%    9.471945e+06  ...          0.000000\n",
              "50%    1.967728e+07  ...         45.000000\n",
              "75%    2.915218e+07  ...        227.000000\n",
              "max    3.648724e+07  ...        365.000000\n",
              "\n",
              "[8 rows x 10 columns]"
            ]
          },
          "metadata": {},
          "execution_count": 19
        }
      ]
    },
    {
      "cell_type": "markdown",
      "metadata": {
        "id": "R6J1wsgvbGzh"
      },
      "source": [
        "**id, latitude, longitude,price,minimum_nights,number_of_reviews,last_review, reviews_per_month calculated_host_listings_count, availability_365** are numerical variables"
      ]
    },
    {
      "cell_type": "code",
      "metadata": {
        "colab": {
          "base_uri": "https://localhost:8080/"
        },
        "id": "kwXsxxn-nwjx",
        "outputId": "0b1c16ba-9852-42da-eeec-1886fb35fece"
      },
      "source": [
        "#looking to find out first what columns have null values\n",
        "#using 'sum' function will show us how many nulls are found in each column in dataset\n",
        "df_airbnb.isnull().sum()"
      ],
      "execution_count": 20,
      "outputs": [
        {
          "output_type": "execute_result",
          "data": {
            "text/plain": [
              "id                                    0\n",
              "name                                 16\n",
              "host_id                               0\n",
              "host_name                            21\n",
              "neighbourhood_group                   0\n",
              "neighbourhood                         0\n",
              "latitude                              0\n",
              "longitude                             0\n",
              "room_type                             0\n",
              "price                                 0\n",
              "minimum_nights                        0\n",
              "number_of_reviews                     0\n",
              "last_review                       10052\n",
              "reviews_per_month                 10052\n",
              "calculated_host_listings_count        0\n",
              "availability_365                      0\n",
              "dtype: int64"
            ]
          },
          "metadata": {},
          "execution_count": 20
        }
      ]
    },
    {
      "cell_type": "markdown",
      "metadata": {
        "id": "wquGXoSzqDt6"
      },
      "source": [
        "So far we get to know that columns such as 'id','last_review' are of no use for this prticular analysis.To elaborate, \"last_review\" is date; if there were no reviews for the listing - date simply will not exist. In our case, this column is irrelevant and insignificant therefore appending those values is not needed. \n",
        "For \"review_per_month\" column we can simply append it with 0.0 for missing values; we can see that in \"number_of_review\" that column will have a 0, therefore following this logic with 0 total reviews there will be 0.0 rate of reviews per month."
      ]
    },
    {
      "cell_type": "code",
      "metadata": {
        "id": "fNGj31YZqjVK"
      },
      "source": [
        "#dropping columns that are not significant\n",
        "df_airbnb.drop(['id','last_review'], axis=1, inplace=True)"
      ],
      "execution_count": 21,
      "outputs": []
    },
    {
      "cell_type": "code",
      "metadata": {
        "colab": {
          "base_uri": "https://localhost:8080/"
        },
        "id": "bnOS74HloEBD",
        "outputId": "3f9ae064-e2bd-4d62-d36d-91cd1740609c"
      },
      "source": [
        "#replacing all NaN values in 'reviews_per_month' with 0\n",
        "# reviews_per_month column containing null values and we can simple put 0 reviews by replacing NAN's\n",
        "df_airbnb.fillna({'reviews_per_month':0}, inplace=True)\n",
        "#examing changes\n",
        "df_airbnb.reviews_per_month.isnull().sum()"
      ],
      "execution_count": 22,
      "outputs": [
        {
          "output_type": "execute_result",
          "data": {
            "text/plain": [
              "0"
            ]
          },
          "metadata": {},
          "execution_count": 22
        }
      ]
    },
    {
      "cell_type": "markdown",
      "metadata": {
        "id": "c8maorOF4c4i"
      },
      "source": [
        "As, host_names and names are not that important in our analysis, so atleast we are good to fill those with some substitutes in both the columns"
      ]
    },
    {
      "cell_type": "code",
      "metadata": {
        "id": "EMZ363Ah4a4m"
      },
      "source": [
        "#since both 'name' and 'host_name' has very less missing values as compared to 47,905 listings and 11452 unique hosts!\n",
        "#we can fill these missing values in both with unknown & no_name respectively!\n",
        "\n",
        "df_airbnb['name'].fillna('unknown',inplace=True)\n",
        "df_airbnb['host_name'].fillna('no_name',inplace=True)"
      ],
      "execution_count": 25,
      "outputs": []
    },
    {
      "cell_type": "code",
      "metadata": {
        "colab": {
          "base_uri": "https://localhost:8080/"
        },
        "id": "inFTVfZl4w9B",
        "outputId": "339eb39d-e919-4959-da7c-ac9550a831ea"
      },
      "source": [
        "#examing changes\n",
        "df_airbnb.name.isnull().sum()"
      ],
      "execution_count": 26,
      "outputs": [
        {
          "output_type": "execute_result",
          "data": {
            "text/plain": [
              "0"
            ]
          },
          "metadata": {},
          "execution_count": 26
        }
      ]
    },
    {
      "cell_type": "code",
      "metadata": {
        "colab": {
          "base_uri": "https://localhost:8080/"
        },
        "id": "0k0Q4Zxc447-",
        "outputId": "b503fbd7-cd37-4276-cfd9-5faa73e60236"
      },
      "source": [
        "#examing changes\n",
        "df_airbnb.host_name.isnull().sum()"
      ],
      "execution_count": 27,
      "outputs": [
        {
          "output_type": "execute_result",
          "data": {
            "text/plain": [
              "0"
            ]
          },
          "metadata": {},
          "execution_count": 27
        }
      ]
    },
    {
      "cell_type": "code",
      "metadata": {
        "colab": {
          "base_uri": "https://localhost:8080/"
        },
        "id": "Kfe1mm185FKe",
        "outputId": "124d7065-49fc-44e5-c215-7038b307aa5c"
      },
      "source": [
        "df_airbnb.info()"
      ],
      "execution_count": 28,
      "outputs": [
        {
          "output_type": "stream",
          "name": "stdout",
          "text": [
            "<class 'pandas.core.frame.DataFrame'>\n",
            "RangeIndex: 48895 entries, 0 to 48894\n",
            "Data columns (total 14 columns):\n",
            " #   Column                          Non-Null Count  Dtype  \n",
            "---  ------                          --------------  -----  \n",
            " 0   name                            48895 non-null  object \n",
            " 1   host_id                         48895 non-null  int64  \n",
            " 2   host_name                       48895 non-null  object \n",
            " 3   neighbourhood_group             48895 non-null  object \n",
            " 4   neighbourhood                   48895 non-null  object \n",
            " 5   latitude                        48895 non-null  float64\n",
            " 6   longitude                       48895 non-null  float64\n",
            " 7   room_type                       48895 non-null  object \n",
            " 8   price                           48895 non-null  int64  \n",
            " 9   minimum_nights                  48895 non-null  int64  \n",
            " 10  number_of_reviews               48895 non-null  int64  \n",
            " 11  reviews_per_month               48895 non-null  float64\n",
            " 12  calculated_host_listings_count  48895 non-null  int64  \n",
            " 13  availability_365                48895 non-null  int64  \n",
            "dtypes: float64(3), int64(6), object(5)\n",
            "memory usage: 5.2+ MB\n"
          ]
        }
      ]
    },
    {
      "cell_type": "markdown",
      "metadata": {
        "id": "gTALa7VGYpbq"
      },
      "source": [
        "# **Exploring and Visualizing Data**"
      ]
    },
    {
      "cell_type": "markdown",
      "metadata": {
        "id": "4H5Bm0h0Y2P-"
      },
      "source": [
        "if a person trying to book a listing for stay/rent he/she will look into these following factors while booking:\n",
        "**name,host_name,neighbourhood_group,neighbourhood,room_type,price,minimum_nights,number_of_reviews**\n",
        "these are the important ones in our analysis. We'll crosscheck though at last!"
      ]
    },
    {
      "cell_type": "markdown",
      "metadata": {
        "id": "8ZmDv-fk_cyg"
      },
      "source": [
        "**Let's check the correlation matrix to understand how are the features interrelated with each other.\n",
        "Also to get an idea which are the most important features in this data.**"
      ]
    },
    {
      "cell_type": "code",
      "metadata": {
        "colab": {
          "base_uri": "https://localhost:8080/",
          "height": 629
        },
        "id": "WA7HQPSm_pfM",
        "outputId": "43a52f79-0885-450d-ba07-71e63a4bf9df"
      },
      "source": [
        "#correlation matrix\n",
        "plt.figure(figsize=(15,8))\n",
        "corrmat = df_airbnb.corr()\n",
        "sns.heatmap(corrmat, vmax=.8, square=True);"
      ],
      "execution_count": 64,
      "outputs": [
        {
          "output_type": "display_data",
          "data": {
            "image/png": "[encoded data removed]",
            "text/plain": [
              "<Figure size 1080x576 with 2 Axes>"
            ]
          },
          "metadata": {
            "needs_background": "light"
          }
        }
      ]
    },
    {
      "cell_type": "markdown",
      "metadata": {
        "id": "YPaRLSns_0HH"
      },
      "source": [
        "From the heatmap we can see the correlation between different features that can affect a airbnb listing.\n",
        "\n",
        "There's correlation among host_id to reveiws_per_month & availability_365. Also there's noticiable correlation between min_nights to no_of_listings_count & availability_365. Price also shows some correlation with availability_365 & host_listings_count.\n",
        "\n",
        "no_of_reviews and reviews_per_month gives almost the same information. so we can carry out analysis with any of the two variable. Also, no_of_reviews is correlated to availability_365!"
      ]
    },
    {
      "cell_type": "markdown",
      "metadata": {
        "id": "kFBr4eO_A68r"
      },
      "source": [
        "# **Single Variable Analysis**"
      ]
    },
    {
      "cell_type": "markdown",
      "metadata": {
        "id": "Fb30cDzP7I0Y"
      },
      "source": [
        "***1.top 10 hosts (IDs) have the most listings***"
      ]
    },
    {
      "cell_type": "code",
      "metadata": {
        "colab": {
          "base_uri": "https://localhost:8080/",
          "height": 359
        },
        "id": "k0oYCSKl5kB7",
        "outputId": "b778710d-60ae-41fa-9209-fc15f266ac00"
      },
      "source": [
        "#let's see top 10 hosts (IDs) have the most listings on Airbnb platform and taking advantage of this service\n",
        "\n",
        "top_host = df_airbnb.host_id.value_counts().head(10)\n",
        "top_host.reset_index()\n"
      ],
      "execution_count": 48,
      "outputs": [
        {
          "output_type": "execute_result",
          "data": {
            "text/html": [
              "<div>\n",
              "<style scoped>\n",
              "    .dataframe tbody tr th:only-of-type {\n",
              "        vertical-align: middle;\n",
              "    }\n",
              "\n",
              "    .dataframe tbody tr th {\n",
              "        vertical-align: top;\n",
              "    }\n",
              "\n",
              "    .dataframe thead th {\n",
              "        text-align: right;\n",
              "    }\n",
              "</style>\n",
              "<table border=\"1\" class=\"dataframe\">\n",
              "  <thead>\n",
              "    <tr style=\"text-align: right;\">\n",
              "      <th></th>\n",
              "      <th>index</th>\n",
              "      <th>host_id</th>\n",
              "    </tr>\n",
              "  </thead>\n",
              "  <tbody>\n",
              "    <tr>\n",
              "      <th>0</th>\n",
              "      <td>219517861</td>\n",
              "      <td>327</td>\n",
              "    </tr>\n",
              "    <tr>\n",
              "      <th>1</th>\n",
              "      <td>107434423</td>\n",
              "      <td>232</td>\n",
              "    </tr>\n",
              "    <tr>\n",
              "      <th>2</th>\n",
              "      <td>30283594</td>\n",
              "      <td>121</td>\n",
              "    </tr>\n",
              "    <tr>\n",
              "      <th>3</th>\n",
              "      <td>137358866</td>\n",
              "      <td>103</td>\n",
              "    </tr>\n",
              "    <tr>\n",
              "      <th>4</th>\n",
              "      <td>12243051</td>\n",
              "      <td>96</td>\n",
              "    </tr>\n",
              "    <tr>\n",
              "      <th>5</th>\n",
              "      <td>16098958</td>\n",
              "      <td>96</td>\n",
              "    </tr>\n",
              "    <tr>\n",
              "      <th>6</th>\n",
              "      <td>61391963</td>\n",
              "      <td>91</td>\n",
              "    </tr>\n",
              "    <tr>\n",
              "      <th>7</th>\n",
              "      <td>22541573</td>\n",
              "      <td>87</td>\n",
              "    </tr>\n",
              "    <tr>\n",
              "      <th>8</th>\n",
              "      <td>200380610</td>\n",
              "      <td>65</td>\n",
              "    </tr>\n",
              "    <tr>\n",
              "      <th>9</th>\n",
              "      <td>7503643</td>\n",
              "      <td>52</td>\n",
              "    </tr>\n",
              "  </tbody>\n",
              "</table>\n",
              "</div>"
            ],
            "text/plain": [
              "       index  host_id\n",
              "0  219517861      327\n",
              "1  107434423      232\n",
              "2   30283594      121\n",
              "3  137358866      103\n",
              "4   12243051       96\n",
              "5   16098958       96\n",
              "6   61391963       91\n",
              "7   22541573       87\n",
              "8  200380610       65\n",
              "9    7503643       52"
            ]
          },
          "metadata": {},
          "execution_count": 48
        }
      ]
    },
    {
      "cell_type": "code",
      "metadata": {
        "colab": {
          "base_uri": "https://localhost:8080/",
          "height": 359
        },
        "id": "XOgZOLpi6KcG",
        "outputId": "d49b494b-2da6-4ef5-d1d7-f01adf286964"
      },
      "source": [
        "df_top_host = pd.DataFrame(top_host)\n",
        "df_top_host.reset_index(inplace=True)\n",
        "df_top_host.rename(columns={'index':'host_id','host_id':'count'},inplace=True)\n",
        "df_top_host"
      ],
      "execution_count": 49,
      "outputs": [
        {
          "output_type": "execute_result",
          "data": {
            "text/html": [
              "<div>\n",
              "<style scoped>\n",
              "    .dataframe tbody tr th:only-of-type {\n",
              "        vertical-align: middle;\n",
              "    }\n",
              "\n",
              "    .dataframe tbody tr th {\n",
              "        vertical-align: top;\n",
              "    }\n",
              "\n",
              "    .dataframe thead th {\n",
              "        text-align: right;\n",
              "    }\n",
              "</style>\n",
              "<table border=\"1\" class=\"dataframe\">\n",
              "  <thead>\n",
              "    <tr style=\"text-align: right;\">\n",
              "      <th></th>\n",
              "      <th>host_id</th>\n",
              "      <th>count</th>\n",
              "    </tr>\n",
              "  </thead>\n",
              "  <tbody>\n",
              "    <tr>\n",
              "      <th>0</th>\n",
              "      <td>219517861</td>\n",
              "      <td>327</td>\n",
              "    </tr>\n",
              "    <tr>\n",
              "      <th>1</th>\n",
              "      <td>107434423</td>\n",
              "      <td>232</td>\n",
              "    </tr>\n",
              "    <tr>\n",
              "      <th>2</th>\n",
              "      <td>30283594</td>\n",
              "      <td>121</td>\n",
              "    </tr>\n",
              "    <tr>\n",
              "      <th>3</th>\n",
              "      <td>137358866</td>\n",
              "      <td>103</td>\n",
              "    </tr>\n",
              "    <tr>\n",
              "      <th>4</th>\n",
              "      <td>12243051</td>\n",
              "      <td>96</td>\n",
              "    </tr>\n",
              "    <tr>\n",
              "      <th>5</th>\n",
              "      <td>16098958</td>\n",
              "      <td>96</td>\n",
              "    </tr>\n",
              "    <tr>\n",
              "      <th>6</th>\n",
              "      <td>61391963</td>\n",
              "      <td>91</td>\n",
              "    </tr>\n",
              "    <tr>\n",
              "      <th>7</th>\n",
              "      <td>22541573</td>\n",
              "      <td>87</td>\n",
              "    </tr>\n",
              "    <tr>\n",
              "      <th>8</th>\n",
              "      <td>200380610</td>\n",
              "      <td>65</td>\n",
              "    </tr>\n",
              "    <tr>\n",
              "      <th>9</th>\n",
              "      <td>7503643</td>\n",
              "      <td>52</td>\n",
              "    </tr>\n",
              "  </tbody>\n",
              "</table>\n",
              "</div>"
            ],
            "text/plain": [
              "     host_id  count\n",
              "0  219517861    327\n",
              "1  107434423    232\n",
              "2   30283594    121\n",
              "3  137358866    103\n",
              "4   12243051     96\n",
              "5   16098958     96\n",
              "6   61391963     91\n",
              "7   22541573     87\n",
              "8  200380610     65\n",
              "9    7503643     52"
            ]
          },
          "metadata": {},
          "execution_count": 49
        }
      ]
    },
    {
      "cell_type": "code",
      "metadata": {
        "colab": {
          "base_uri": "https://localhost:8080/",
          "height": 683
        },
        "id": "0qgS_ULA6pIL",
        "outputId": "5ea5f537-6e56-4483-a83b-2459c6cfcd3a"
      },
      "source": [
        "#setting figure size\n",
        "plt.figure(figsize=(15,8))\n",
        "\n",
        "viz=sns.barplot(x='host_id', y='count', data=df_top_host, palette=\"cubehelix\")\n",
        "viz.set_title('Hosts with the most listings in NYC')\n",
        "viz.set_ylabel('Count of listings')\n",
        "viz.set_xlabel('Host id\\'s')\n",
        "viz.set_xticklabels(viz.get_xticklabels())"
      ],
      "execution_count": 50,
      "outputs": [
        {
          "output_type": "execute_result",
          "data": {
            "text/plain": [
              "[Text(0, 0, '7503643'),\n",
              " Text(0, 0, '12243051'),\n",
              " Text(0, 0, '16098958'),\n",
              " Text(0, 0, '22541573'),\n",
              " Text(0, 0, '30283594'),\n",
              " Text(0, 0, '61391963'),\n",
              " Text(0, 0, '107434423'),\n",
              " Text(0, 0, '137358866'),\n",
              " Text(0, 0, '200380610'),\n",
              " Text(0, 0, '219517861')]"
            ]
          },
          "metadata": {},
          "execution_count": 50
        },
        {
          "output_type": "display_data",
          "data": {
            "image/png": "[encoded data removed]",
            "text/plain": [
              "<Figure size 1080x576 with 1 Axes>"
            ]
          },
          "metadata": {
            "needs_background": "light"
          }
        }
      ]
    },
    {
      "cell_type": "code",
      "metadata": {
        "id": "kQ6ukRKn7r7l"
      },
      "source": [
        ""
      ],
      "execution_count": null,
      "outputs": []
    },
    {
      "cell_type": "markdown",
      "metadata": {
        "id": "_FGYvGyF7s1t"
      },
      "source": [
        "***2.top 5 listings on Airbnb in entire NYC***"
      ]
    },
    {
      "cell_type": "code",
      "metadata": {
        "colab": {
          "base_uri": "https://localhost:8080/",
          "height": 204
        },
        "id": "w8eiMGAE7jug",
        "outputId": "45345c92-7b1b-44eb-d79e-8b3165677854"
      },
      "source": [
        "#top 5 listings on Airbnb in entire NYC:\n",
        "\n",
        "listings_count_df=df_airbnb['name'].value_counts()[:5].reset_index()\n",
        "listings_count_df.rename(columns={'index':'Listings on Airbnb','name':'Total_listings'},inplace=True)\n",
        "listings_count_df"
      ],
      "execution_count": 47,
      "outputs": [
        {
          "output_type": "execute_result",
          "data": {
            "text/html": [
              "<div>\n",
              "<style scoped>\n",
              "    .dataframe tbody tr th:only-of-type {\n",
              "        vertical-align: middle;\n",
              "    }\n",
              "\n",
              "    .dataframe tbody tr th {\n",
              "        vertical-align: top;\n",
              "    }\n",
              "\n",
              "    .dataframe thead th {\n",
              "        text-align: right;\n",
              "    }\n",
              "</style>\n",
              "<table border=\"1\" class=\"dataframe\">\n",
              "  <thead>\n",
              "    <tr style=\"text-align: right;\">\n",
              "      <th></th>\n",
              "      <th>Listings on Airbnb</th>\n",
              "      <th>Total_listings</th>\n",
              "    </tr>\n",
              "  </thead>\n",
              "  <tbody>\n",
              "    <tr>\n",
              "      <th>0</th>\n",
              "      <td>Hillside Hotel</td>\n",
              "      <td>18</td>\n",
              "    </tr>\n",
              "    <tr>\n",
              "      <th>1</th>\n",
              "      <td>Home away from home</td>\n",
              "      <td>17</td>\n",
              "    </tr>\n",
              "    <tr>\n",
              "      <th>2</th>\n",
              "      <td>New york Multi-unit building</td>\n",
              "      <td>16</td>\n",
              "    </tr>\n",
              "    <tr>\n",
              "      <th>3</th>\n",
              "      <td>unknown</td>\n",
              "      <td>16</td>\n",
              "    </tr>\n",
              "    <tr>\n",
              "      <th>4</th>\n",
              "      <td>Brooklyn Apartment</td>\n",
              "      <td>12</td>\n",
              "    </tr>\n",
              "  </tbody>\n",
              "</table>\n",
              "</div>"
            ],
            "text/plain": [
              "             Listings on Airbnb  Total_listings\n",
              "0                Hillside Hotel              18\n",
              "1           Home away from home              17\n",
              "2  New york Multi-unit building              16\n",
              "3                       unknown              16\n",
              "4            Brooklyn Apartment              12"
            ]
          },
          "metadata": {},
          "execution_count": 47
        }
      ]
    },
    {
      "cell_type": "markdown",
      "metadata": {
        "id": "Kzgcl9e476UZ"
      },
      "source": [
        "Hillside Hotel is found to have listed more listings in entire NYC, followed by Home away from Home."
      ]
    },
    {
      "cell_type": "markdown",
      "metadata": {
        "id": "DiAWP-uS8D-8"
      },
      "source": [
        "***3.top 10 hosts on the basis of no of listings in entire NYC***"
      ]
    },
    {
      "cell_type": "code",
      "metadata": {
        "colab": {
          "base_uri": "https://localhost:8080/"
        },
        "id": "n2_KR8NZ8Vnk",
        "outputId": "78de05f8-d03b-4b6c-a2a0-81d5302be96e"
      },
      "source": [
        "top_10_hosts=df_airbnb['host_name'].value_counts()[:10]\n",
        "top_10_hosts"
      ],
      "execution_count": 51,
      "outputs": [
        {
          "output_type": "execute_result",
          "data": {
            "text/plain": [
              "Michael         417\n",
              "David           403\n",
              "Sonder (NYC)    327\n",
              "John            294\n",
              "Alex            279\n",
              "Blueground      232\n",
              "Sarah           227\n",
              "Daniel          226\n",
              "Jessica         205\n",
              "Maria           204\n",
              "Name: host_name, dtype: int64"
            ]
          },
          "metadata": {},
          "execution_count": 51
        }
      ]
    },
    {
      "cell_type": "code",
      "metadata": {
        "colab": {
          "base_uri": "https://localhost:8080/",
          "height": 587
        },
        "id": "ECnAFH_H8gpc",
        "outputId": "4c156dc7-b56e-49ae-ccb4-9c90e194aaba"
      },
      "source": [
        "plt.figure(figsize=(15,8))\n",
        "top_10_hosts.plot(kind='bar',color='b')\n",
        "plt.xlabel('top_10_hosts')\n",
        "plt.ylabel('total_NYC_listings')\n",
        "plt.title('top 10 hosts on the basis of no of listings in entire NYC')"
      ],
      "execution_count": 53,
      "outputs": [
        {
          "output_type": "execute_result",
          "data": {
            "text/plain": [
              "Text(0.5, 1.0, 'top 10 hosts on the basis of no of listings in entire NYC')"
            ]
          },
          "metadata": {},
          "execution_count": 53
        },
        {
          "output_type": "display_data",
          "data": {
            "image/png": "[encoded data removed]",
            "text/plain": [
              "<Figure size 1080x576 with 1 Axes>"
            ]
          },
          "metadata": {
            "needs_background": "light"
          }
        }
      ]
    },
    {
      "cell_type": "markdown",
      "metadata": {
        "id": "jQaIC6IN9Dfu"
      },
      "source": [
        "***4.the neighbourhood group vs no of listings in entire NYC***"
      ]
    },
    {
      "cell_type": "code",
      "metadata": {
        "colab": {
          "base_uri": "https://localhost:8080/",
          "height": 586
        },
        "id": "G9qp7j9a9LlH",
        "outputId": "b30eae26-05ba-4c48-a5e7-1babc0ea0816"
      },
      "source": [
        "plt.figure(figsize=(15,8))\n",
        "df_airbnb['neighbourhood_group'].value_counts().plot(kind='bar',color='b')\n",
        "plt.xlabel('Neighbourhood_Group')\n",
        "plt.ylabel('total_NYC_listings')\n",
        "plt.title('Count of no of listings in entire NYC of each neighbourhood group')"
      ],
      "execution_count": 55,
      "outputs": [
        {
          "output_type": "execute_result",
          "data": {
            "text/plain": [
              "Text(0.5, 1.0, 'Count of no of listings in entire NYC of each neighbourhood group')"
            ]
          },
          "metadata": {},
          "execution_count": 55
        },
        {
          "output_type": "display_data",
          "data": {
            "image/png": "[encoded data removed]",
            "text/plain": [
              "<Figure size 1080x576 with 1 Axes>"
            ]
          },
          "metadata": {
            "needs_background": "light"
          }
        }
      ]
    },
    {
      "cell_type": "markdown",
      "metadata": {
        "id": "sNS54Oox9Y7o"
      },
      "source": [
        "the neighbourhood group 'Manhattan' has the highest no of listings in entire NYC"
      ]
    },
    {
      "cell_type": "markdown",
      "metadata": {
        "id": "MdLXn2Fp9dI9"
      },
      "source": [
        "***5.Top 10 neighbourhoods groups in entire NYC on the basis of count of listings***"
      ]
    },
    {
      "cell_type": "code",
      "metadata": {
        "colab": {
          "base_uri": "https://localhost:8080/",
          "height": 619
        },
        "id": "oIZUxnUC9vr8",
        "outputId": "ed2f40d9-6b3f-4952-af61-5d62f6a8bc6f"
      },
      "source": [
        "plt.figure(figsize=(15,8))\n",
        "top_10_neigbours= df_airbnb['neighbourhood'].value_counts()[:10] \n",
        "top_10_neigbours.plot(kind='bar',color='b')\n",
        "plt.xlabel('neighbourhood')\n",
        "plt.ylabel('counts in entire NYC')\n",
        "plt.title('Top 10 neighbourhoods in entire NYC on the basis of count of listings')"
      ],
      "execution_count": 58,
      "outputs": [
        {
          "output_type": "execute_result",
          "data": {
            "text/plain": [
              "Text(0.5, 1.0, 'Top 10 neighbourhoods in entire NYC on the basis of count of listings')"
            ]
          },
          "metadata": {},
          "execution_count": 58
        },
        {
          "output_type": "display_data",
          "data": {
            "image/png": "[encoded data removed]",
            "text/plain": [
              "<Figure size 1080x576 with 1 Axes>"
            ]
          },
          "metadata": {
            "needs_background": "light"
          }
        }
      ]
    },
    {
      "cell_type": "markdown",
      "metadata": {
        "id": "_n3uCDgz-FCk"
      },
      "source": [
        "***6.count of each room types in entire NYC***"
      ]
    },
    {
      "cell_type": "code",
      "metadata": {
        "colab": {
          "base_uri": "https://localhost:8080/",
          "height": 534
        },
        "id": "RDCPF_Lk-txZ",
        "outputId": "15db362f-0ca9-4129-b06e-17018acbb832"
      },
      "source": [
        "plt.rcParams['figure.figsize'] = (15, 8)\n",
        "ax= sns.countplot(y='room_type',hue='neighbourhood_group',data=df_airbnb,palette='bright')\n",
        "\n",
        "total = len(df_airbnb['room_type'])\n",
        "for p in ax.patches:\n",
        "        percentage = '{:.1f}%'.format(100 * p.get_width()/total)\n",
        "        x = p.get_x() + p.get_width() + 0.02\n",
        "        y = p.get_y() + p.get_height()/2\n",
        "        ax.annotate(percentage, (x, y))\n",
        "\n",
        "plt.title('count of each room types in entire NYC')\n",
        "plt.xlabel('Rooms')\n",
        "plt.xticks(rotation=90)\n",
        "plt.ylabel('Room Counts')\n",
        "\n",
        "plt.show()"
      ],
      "execution_count": 63,
      "outputs": [
        {
          "output_type": "display_data",
          "data": {
            "image/png": "[encoded data removed]",
            "text/plain": [
              "<Figure size 1080x576 with 1 Axes>"
            ]
          },
          "metadata": {
            "needs_background": "light"
          }
        }
      ]
    },
    {
      "cell_type": "markdown",
      "metadata": {
        "id": "UGnnCgsP_Lcg"
      },
      "source": [
        "Manhattan has more listed properties with Entire home/apt around 27% of total listed properties followed by Brooklyn with around 19.6%.\n",
        "\n",
        "Private rooms are more in Brooklyn as in 20.7% of the total listed properties followed by Manhattan with 16.3% of them. While 6.9% of private rooms are from Queens.\n",
        "\n",
        "Very few of the total listed have shared rooms listed on Airbnb where there's negligible or almost very rare shared rooms in Staten Island and Bronx.\n",
        "\n",
        "We can infer that Brooklyn,Queens,Bronx has more private room types while Manhattan which has the highest no of listings in entire NYC has more Entire home/apt room types."
      ]
    },
    {
      "cell_type": "code",
      "metadata": {
        "id": "D7bGrLel_MlP"
      },
      "source": [
        ""
      ],
      "execution_count": null,
      "outputs": []
    }
  ]
}