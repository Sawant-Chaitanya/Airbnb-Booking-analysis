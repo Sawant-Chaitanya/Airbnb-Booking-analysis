{
  "nbformat": 4,
  "nbformat_minor": 0,
  "metadata": {
    "kernelspec": {
      "display_name": "Python 3",
      "language": "python",
      "name": "python3"
    },
    "language_info": {
      "codemirror_mode": {
        "name": "ipython",
        "version": 3
      },
      "file_extension": ".py",
      "mimetype": "text/x-python",
      "name": "python",
      "nbconvert_exporter": "python",
      "pygments_lexer": "ipython3",
      "version": "3.6.6"
    },
    "colab": {
      "name": "Copy of Airbnb Bookings Analysis - Capstone Project.ipynb",
      "provenance": [],
      "include_colab_link": true
    }
  },
  "cells": [
    {
      "cell_type": "markdown",
      "metadata": {
        "id": "view-in-github",
        "colab_type": "text"
      },
      "source": [
        "<a href=\"https://colab.research.google.com/github/Sawant-Chaitanya/Airbnb-Booking-analysis/blob/main/Copy_of_Airbnb_Bookings_Analysis_Capstone_Project.ipynb\" target=\"_parent\"><img src=\"https://colab.research.google.com/assets/colab-badge.svg\" alt=\"Open In Colab\"/></a>"
      ]
    },
    {
      "cell_type": "markdown",
      "metadata": {
        "id": "Y06xIdG26kRF"
      },
      "source": [
        "## <b> Since 2008, guests and hosts have used Airbnb to expand on traveling possibilities and present a more unique, personalized way of experiencing the world. Today, Airbnb became one of a kind service that is used and recognized by the whole world. Data analysis on millions of listings provided through Airbnb is a crucial factor for the company. These millions of listings generate a lot of data - data that can be analyzed and used for security, business decisions, understanding of customers' and providers' (hosts) behavior and performance on the platform, guiding marketing initiatives, implementation of innovative additional services and much more. </b>\n",
        "\n",
        "## <b>This dataset has around 49,000 observations in it with 16 columns and it is a mix between categorical and numeric values. </b>\n",
        "\n",
        "## <b> Explore and analyze the data to discover key understandings (not limited to these) such as : \n",
        "* What can we learn about different hosts and areas?\n",
        "* What can we learn from predictions? (ex: locations, prices, reviews, etc)\n",
        "* Which hosts are the busiest and why?\n",
        "* Is there any noticeable difference of traffic among different areas and what could be the reason for it? </b>"
      ]
    },
    {
      "cell_type": "code",
      "metadata": {
        "id": "et444U61tR0m"
      },
      "source": [
        ""
      ],
      "execution_count": null,
      "outputs": []
    },
    {
      "cell_type": "markdown",
      "metadata": {
        "id": "Hgeyu_aptV93"
      },
      "source": [
        "# **Exploratory Data Analysis on NYC Airbnb 2019 dataset**"
      ]
    },
    {
      "cell_type": "markdown",
      "metadata": {
        "id": "A9wQfoYXt_1n"
      },
      "source": [
        "\n",
        "\n",
        "\n",
        "\n",
        "## Airbnb was conceived years ago by two roommates who rented out an air mattress in their living room. This turned their whole apartment into a bed and breakfast. This was done to sustain the high-priced living in San Francisco. This gave the company its name **Airbedandbreakfast**.This San-Francisco based startup offers you someone’s home as a place to stay instead of a hotel. Airbnb was **started in 2008**.Since 2008, guests and hosts have used Airbnb to expand on traveling possibilities and present a more unique, personalized way of experiencing the world. Today, Airbnb became one of a kind service that is used and recognized by the whole world. Data analysis on millions of listings provided through Airbnb is a crucial factor for the company. These millions of listings generate a lot of data - data that can be analyzed and used for security, business decisions, understanding of customers' and providers' (hosts) behavior and performance on the platform, guiding marketing initiatives, implementation of innovative additional services and much more.\n",
        "\n",
        "\n",
        "\n"
      ]
    },
    {
      "cell_type": "markdown",
      "metadata": {
        "id": "9DQJO2bGvaEr"
      },
      "source": [
        "# **Data Source**"
      ]
    },
    {
      "cell_type": "markdown",
      "metadata": {
        "id": "KwhzVxoxvepT"
      },
      "source": [
        "This dataset has around **48895** observations in it with 16 columns and it is a mix between categorical and numeric values."
      ]
    },
    {
      "cell_type": "markdown",
      "metadata": {
        "id": "sVwpvcACsw9r"
      },
      "source": [
        "# **Acquaring and Loading Data**"
      ]
    },
    {
      "cell_type": "code",
      "metadata": {
        "id": "dByMsuzT8Tnw"
      },
      "source": [
        "#importing necessery libraries for future analysis of the dataset\n",
        "\n",
        "import numpy as np\n",
        "import pandas as pd\n",
        "import matplotlib.pyplot as plt\n",
        "import matplotlib.image as mpimg\n",
        "%matplotlib inline\n",
        "import seaborn as sns\n"
      ],
      "execution_count": 2,
      "outputs": []
    },
    {
      "cell_type": "code",
      "metadata": {
        "colab": {
          "base_uri": "https://localhost:8080/"
        },
        "id": "emGhvM4lurK-",
        "outputId": "dd8b9ee8-dba6-46da-eb60-4bba5f2af681"
      },
      "source": [
        "from google.colab import drive\n",
        "drive.mount('/content/drive')"
      ],
      "execution_count": 3,
      "outputs": [
        {
          "output_type": "stream",
          "name": "stdout",
          "text": [
            "Mounted at /content/drive\n"
          ]
        }
      ]
    },
    {
      "cell_type": "code",
      "metadata": {
        "colab": {
          "base_uri": "https://localhost:8080/",
          "height": 261
        },
        "id": "1UanUON5u1FQ",
        "outputId": "4b3117e2-e85c-48b2-f613-40ab01cd59c4"
      },
      "source": [
        "#using pandas library and 'read_csv' function to read Airbnb NYC 2019 csv file\n",
        "\n",
        "df_airbnb = pd.read_csv('/content/drive/MyDrive/Almabetter/Capstone Project/AirBnB Bookings Analysis/Airbnb NYC 2019.csv')\n",
        "df_airbnb.head(3)"
      ],
      "execution_count": 4,
      "outputs": [
        {
          "output_type": "execute_result",
          "data": {
            "text/html": [
              "<div>\n",
              "<style scoped>\n",
              "    .dataframe tbody tr th:only-of-type {\n",
              "        vertical-align: middle;\n",
              "    }\n",
              "\n",
              "    .dataframe tbody tr th {\n",
              "        vertical-align: top;\n",
              "    }\n",
              "\n",
              "    .dataframe thead th {\n",
              "        text-align: right;\n",
              "    }\n",
              "</style>\n",
              "<table border=\"1\" class=\"dataframe\">\n",
              "  <thead>\n",
              "    <tr style=\"text-align: right;\">\n",
              "      <th></th>\n",
              "      <th>id</th>\n",
              "      <th>name</th>\n",
              "      <th>host_id</th>\n",
              "      <th>host_name</th>\n",
              "      <th>neighbourhood_group</th>\n",
              "      <th>neighbourhood</th>\n",
              "      <th>latitude</th>\n",
              "      <th>longitude</th>\n",
              "      <th>room_type</th>\n",
              "      <th>price</th>\n",
              "      <th>minimum_nights</th>\n",
              "      <th>number_of_reviews</th>\n",
              "      <th>last_review</th>\n",
              "      <th>reviews_per_month</th>\n",
              "      <th>calculated_host_listings_count</th>\n",
              "      <th>availability_365</th>\n",
              "    </tr>\n",
              "  </thead>\n",
              "  <tbody>\n",
              "    <tr>\n",
              "      <th>0</th>\n",
              "      <td>2539</td>\n",
              "      <td>Clean &amp; quiet apt home by the park</td>\n",
              "      <td>2787</td>\n",
              "      <td>John</td>\n",
              "      <td>Brooklyn</td>\n",
              "      <td>Kensington</td>\n",
              "      <td>40.64749</td>\n",
              "      <td>-73.97237</td>\n",
              "      <td>Private room</td>\n",
              "      <td>149</td>\n",
              "      <td>1</td>\n",
              "      <td>9</td>\n",
              "      <td>2018-10-19</td>\n",
              "      <td>0.21</td>\n",
              "      <td>6</td>\n",
              "      <td>365</td>\n",
              "    </tr>\n",
              "    <tr>\n",
              "      <th>1</th>\n",
              "      <td>2595</td>\n",
              "      <td>Skylit Midtown Castle</td>\n",
              "      <td>2845</td>\n",
              "      <td>Jennifer</td>\n",
              "      <td>Manhattan</td>\n",
              "      <td>Midtown</td>\n",
              "      <td>40.75362</td>\n",
              "      <td>-73.98377</td>\n",
              "      <td>Entire home/apt</td>\n",
              "      <td>225</td>\n",
              "      <td>1</td>\n",
              "      <td>45</td>\n",
              "      <td>2019-05-21</td>\n",
              "      <td>0.38</td>\n",
              "      <td>2</td>\n",
              "      <td>355</td>\n",
              "    </tr>\n",
              "    <tr>\n",
              "      <th>2</th>\n",
              "      <td>3647</td>\n",
              "      <td>THE VILLAGE OF HARLEM....NEW YORK !</td>\n",
              "      <td>4632</td>\n",
              "      <td>Elisabeth</td>\n",
              "      <td>Manhattan</td>\n",
              "      <td>Harlem</td>\n",
              "      <td>40.80902</td>\n",
              "      <td>-73.94190</td>\n",
              "      <td>Private room</td>\n",
              "      <td>150</td>\n",
              "      <td>3</td>\n",
              "      <td>0</td>\n",
              "      <td>NaN</td>\n",
              "      <td>NaN</td>\n",
              "      <td>1</td>\n",
              "      <td>365</td>\n",
              "    </tr>\n",
              "  </tbody>\n",
              "</table>\n",
              "</div>"
            ],
            "text/plain": [
              "     id  ... availability_365\n",
              "0  2539  ...              365\n",
              "1  2595  ...              355\n",
              "2  3647  ...              365\n",
              "\n",
              "[3 rows x 16 columns]"
            ]
          },
          "metadata": {},
          "execution_count": 4
        }
      ]
    },
    {
      "cell_type": "markdown",
      "metadata": {
        "id": "BJmNQWw3v8_F"
      },
      "source": [
        "# **Data Exploration and variable Identification**"
      ]
    },
    {
      "cell_type": "code",
      "metadata": {
        "colab": {
          "base_uri": "https://localhost:8080/"
        },
        "id": "VMc7ImxNWKtv",
        "outputId": "d32da0e1-320c-454e-dadc-3989f6328ce9"
      },
      "source": [
        "#checking info about dataset\n",
        "df_airbnb.info()"
      ],
      "execution_count": 6,
      "outputs": [
        {
          "output_type": "stream",
          "name": "stdout",
          "text": [
            "<class 'pandas.core.frame.DataFrame'>\n",
            "RangeIndex: 48895 entries, 0 to 48894\n",
            "Data columns (total 16 columns):\n",
            " #   Column                          Non-Null Count  Dtype  \n",
            "---  ------                          --------------  -----  \n",
            " 0   id                              48895 non-null  int64  \n",
            " 1   name                            48879 non-null  object \n",
            " 2   host_id                         48895 non-null  int64  \n",
            " 3   host_name                       48874 non-null  object \n",
            " 4   neighbourhood_group             48895 non-null  object \n",
            " 5   neighbourhood                   48895 non-null  object \n",
            " 6   latitude                        48895 non-null  float64\n",
            " 7   longitude                       48895 non-null  float64\n",
            " 8   room_type                       48895 non-null  object \n",
            " 9   price                           48895 non-null  int64  \n",
            " 10  minimum_nights                  48895 non-null  int64  \n",
            " 11  number_of_reviews               48895 non-null  int64  \n",
            " 12  last_review                     38843 non-null  object \n",
            " 13  reviews_per_month               38843 non-null  float64\n",
            " 14  calculated_host_listings_count  48895 non-null  int64  \n",
            " 15  availability_365                48895 non-null  int64  \n",
            "dtypes: float64(3), int64(7), object(6)\n",
            "memory usage: 6.0+ MB\n"
          ]
        }
      ]
    },
    {
      "cell_type": "code",
      "metadata": {
        "colab": {
          "base_uri": "https://localhost:8080/"
        },
        "id": "KOhu0w7yve4p",
        "outputId": "1a55e4b1-419d-4d23-fdc3-96b839115491"
      },
      "source": [
        "df_airbnb.shape"
      ],
      "execution_count": 7,
      "outputs": [
        {
          "output_type": "execute_result",
          "data": {
            "text/plain": [
              "(48895, 16)"
            ]
          },
          "metadata": {},
          "execution_count": 7
        }
      ]
    },
    {
      "cell_type": "markdown",
      "metadata": {
        "id": "i5YLcEWgQdik"
      },
      "source": [
        ""
      ]
    },
    {
      "cell_type": "code",
      "metadata": {
        "id": "QSijR8d5xA3_"
      },
      "source": [
        ""
      ],
      "execution_count": null,
      "outputs": []
    },
    {
      "cell_type": "markdown",
      "metadata": {
        "id": "RLK8lTSrxCCs"
      },
      "source": [
        "# **Understadning Data**"
      ]
    },
    {
      "cell_type": "markdown",
      "metadata": {
        "id": "XLYKGVnXPX17"
      },
      "source": [
        "**Finding numerical and categorical variables**"
      ]
    },
    {
      "cell_type": "code",
      "metadata": {
        "colab": {
          "base_uri": "https://localhost:8080/"
        },
        "id": "QO1Q6J32TOi_",
        "outputId": "42ba16e1-3da9-432d-f76d-4a9ca7472e54"
      },
      "source": [
        "#checking what are the variables here:\n",
        "df_airbnb.columns"
      ],
      "execution_count": 16,
      "outputs": [
        {
          "output_type": "execute_result",
          "data": {
            "text/plain": [
              "Index(['id', 'name', 'host_id', 'host_name', 'neighbourhood_group',\n",
              "       'neighbourhood', 'latitude', 'longitude', 'room_type', 'price',\n",
              "       'minimum_nights', 'number_of_reviews', 'last_review',\n",
              "       'reviews_per_month', 'calculated_host_listings_count',\n",
              "       'availability_365'],\n",
              "      dtype='object')"
            ]
          },
          "metadata": {},
          "execution_count": 16
        }
      ]
    },
    {
      "cell_type": "markdown",
      "metadata": {
        "id": "oZSp7GuBTWKf"
      },
      "source": [
        "By obsevations we get to that **'name'** column represents **property name** and and perticular properties were hosted by **perticular hosts** who are represented in **'host_name'** column.\n",
        "But a particular host_name can have multiple properties in a area.\n",
        "So **host_name** is like one of the **catogerical variable** like **neighbourhood(areas), neighbourhood_group, and room_type**."
      ]
    },
    {
      "cell_type": "code",
      "metadata": {
        "colab": {
          "base_uri": "https://localhost:8080/"
        },
        "id": "kPaDRRooS0Xw",
        "outputId": "10074191-ea20-4776-98ca-d726a9c19ebd"
      },
      "source": [
        "#let's proceed with examing some interesting categorical unique values\n",
        "\n",
        "#examining the unique values of neighbourhood_group \n",
        "df_airbnb.neighbourhood_group.unique()"
      ],
      "execution_count": 15,
      "outputs": [
        {
          "output_type": "execute_result",
          "data": {
            "text/plain": [
              "array(['Brooklyn', 'Manhattan', 'Queens', 'Staten Island', 'Bronx'],\n",
              "      dtype=object)"
            ]
          },
          "metadata": {},
          "execution_count": 15
        }
      ]
    },
    {
      "cell_type": "code",
      "metadata": {
        "colab": {
          "base_uri": "https://localhost:8080/"
        },
        "id": "8Y26WmVAT24t",
        "outputId": "0ede1a03-ba1b-4f5c-fd04-2bad8f1fbcb3"
      },
      "source": [
        "#examining the unique values of neighbourhood\n",
        "df_airbnb['neighbourhood'].nunique()"
      ],
      "execution_count": 21,
      "outputs": [
        {
          "output_type": "execute_result",
          "data": {
            "text/plain": [
              "221"
            ]
          },
          "metadata": {},
          "execution_count": 21
        }
      ]
    },
    {
      "cell_type": "code",
      "metadata": {
        "colab": {
          "base_uri": "https://localhost:8080/"
        },
        "id": "-5hDdU0dTt-A",
        "outputId": "d3aba15a-b426-4dbb-a43f-a41760b6e534"
      },
      "source": [
        "#examining the unique values of room_type \n",
        "df_airbnb.room_type.unique()"
      ],
      "execution_count": 22,
      "outputs": [
        {
          "output_type": "execute_result",
          "data": {
            "text/plain": [
              "array(['Private room', 'Entire home/apt', 'Shared room'], dtype=object)"
            ]
          },
          "metadata": {},
          "execution_count": 22
        }
      ]
    },
    {
      "cell_type": "code",
      "metadata": {
        "colab": {
          "base_uri": "https://localhost:8080/"
        },
        "id": "a-bNWTNLTgts",
        "outputId": "33090ed7-6b18-4a08-ae02-5bc2d4f4ae1c"
      },
      "source": [
        "df_airbnb['host_id'].nunique()"
      ],
      "execution_count": 83,
      "outputs": [
        {
          "output_type": "execute_result",
          "data": {
            "text/plain": [
              "37457"
            ]
          },
          "metadata": {},
          "execution_count": 83
        }
      ]
    },
    {
      "cell_type": "code",
      "metadata": {
        "colab": {
          "base_uri": "https://localhost:8080/"
        },
        "id": "sAUsinMTPtwC",
        "outputId": "513e10f0-ee7e-413c-b3c1-42a879545326"
      },
      "source": [
        "df_airbnb['host_name'].nunique()"
      ],
      "execution_count": 10,
      "outputs": [
        {
          "output_type": "execute_result",
          "data": {
            "text/plain": [
              "11452"
            ]
          },
          "metadata": {},
          "execution_count": 10
        }
      ]
    },
    {
      "cell_type": "code",
      "metadata": {
        "colab": {
          "base_uri": "https://localhost:8080/"
        },
        "id": "AERmAyHTPw1N",
        "outputId": "098e9be5-b287-4445-ddbe-caaf9b2c2c27"
      },
      "source": [
        "df_airbnb['name'].nunique()"
      ],
      "execution_count": 11,
      "outputs": [
        {
          "output_type": "execute_result",
          "data": {
            "text/plain": [
              "47905"
            ]
          },
          "metadata": {},
          "execution_count": 11
        }
      ]
    },
    {
      "cell_type": "code",
      "metadata": {
        "colab": {
          "base_uri": "https://localhost:8080/"
        },
        "id": "SZblH9CyPzCt",
        "outputId": "bc5f6593-3002-4e01-a9e0-239d6dbd8ed4"
      },
      "source": [
        "df_airbnb['name'].value_counts()\n",
        "#  few listings have no particular host name as below observation\n",
        "#also few listings/property with same names has different hosts in different neighbourhoods of a neighbourhood_group"
      ],
      "execution_count": 12,
      "outputs": [
        {
          "output_type": "execute_result",
          "data": {
            "text/plain": [
              "Hillside Hotel                                       18\n",
              "Home away from home                                  17\n",
              "New york Multi-unit building                         16\n",
              "Brooklyn Apartment                                   12\n",
              "Loft Suite @ The Box House Hotel                     11\n",
              "                                                     ..\n",
              "Flatiron Designer Loft! Private Elevator! 3BR/2BA     1\n",
              "Affordable room in a friendly house                   1\n",
              "Sunny Private bedroom in Bushwick!                    1\n",
              "Very Clean, Cozy 2 Bedrooms near Central Park         1\n",
              "Pretty Light Filled Apartment to Share                1\n",
              "Name: name, Length: 47905, dtype: int64"
            ]
          },
          "metadata": {},
          "execution_count": 12
        }
      ]
    },
    {
      "cell_type": "code",
      "metadata": {
        "colab": {
          "base_uri": "https://localhost:8080/",
          "height": 362
        },
        "id": "yxqhn_bEntV2",
        "outputId": "504c8fd8-833e-457d-b5ad-d95660fb0cd8"
      },
      "source": [
        "df_airbnb[df_airbnb['name']=='New york Multi-unit building'].head(3) #so on this viewpoint name also comes under categorical var!\n",
        "#same property but hosted by different Airbnb hosts with different room_types & varied price ranges"
      ],
      "execution_count": 75,
      "outputs": [
        {
          "output_type": "execute_result",
          "data": {
            "text/html": [
              "<div>\n",
              "<style scoped>\n",
              "    .dataframe tbody tr th:only-of-type {\n",
              "        vertical-align: middle;\n",
              "    }\n",
              "\n",
              "    .dataframe tbody tr th {\n",
              "        vertical-align: top;\n",
              "    }\n",
              "\n",
              "    .dataframe thead th {\n",
              "        text-align: right;\n",
              "    }\n",
              "</style>\n",
              "<table border=\"1\" class=\"dataframe\">\n",
              "  <thead>\n",
              "    <tr style=\"text-align: right;\">\n",
              "      <th></th>\n",
              "      <th>id</th>\n",
              "      <th>name</th>\n",
              "      <th>host_id</th>\n",
              "      <th>host_name</th>\n",
              "      <th>neighbourhood_group</th>\n",
              "      <th>neighbourhood</th>\n",
              "      <th>latitude</th>\n",
              "      <th>longitude</th>\n",
              "      <th>room_type</th>\n",
              "      <th>price</th>\n",
              "      <th>minimum_nights</th>\n",
              "      <th>number_of_reviews</th>\n",
              "      <th>last_review</th>\n",
              "      <th>reviews_per_month</th>\n",
              "      <th>calculated_host_listings_count</th>\n",
              "      <th>availability_365</th>\n",
              "    </tr>\n",
              "  </thead>\n",
              "  <tbody>\n",
              "    <tr>\n",
              "      <th>2751</th>\n",
              "      <td>1489426</td>\n",
              "      <td>New york Multi-unit building</td>\n",
              "      <td>7964729</td>\n",
              "      <td>Justin</td>\n",
              "      <td>Manhattan</td>\n",
              "      <td>Financial District</td>\n",
              "      <td>40.70582</td>\n",
              "      <td>-74.00888</td>\n",
              "      <td>Entire home/apt</td>\n",
              "      <td>390</td>\n",
              "      <td>3</td>\n",
              "      <td>1</td>\n",
              "      <td>2018-09-13</td>\n",
              "      <td>0.1</td>\n",
              "      <td>1</td>\n",
              "      <td>0</td>\n",
              "    </tr>\n",
              "    <tr>\n",
              "      <th>19016</th>\n",
              "      <td>15100883</td>\n",
              "      <td>New york Multi-unit building</td>\n",
              "      <td>95623284</td>\n",
              "      <td>Pablo</td>\n",
              "      <td>Bronx</td>\n",
              "      <td>Fordham</td>\n",
              "      <td>40.86533</td>\n",
              "      <td>-73.89713</td>\n",
              "      <td>Private room</td>\n",
              "      <td>40</td>\n",
              "      <td>3</td>\n",
              "      <td>1</td>\n",
              "      <td>2018-09-24</td>\n",
              "      <td>0.1</td>\n",
              "      <td>1</td>\n",
              "      <td>179</td>\n",
              "    </tr>\n",
              "    <tr>\n",
              "      <th>33473</th>\n",
              "      <td>26463879</td>\n",
              "      <td>New york Multi-unit building</td>\n",
              "      <td>21682640</td>\n",
              "      <td>Clarise</td>\n",
              "      <td>Brooklyn</td>\n",
              "      <td>Flatbush</td>\n",
              "      <td>40.64258</td>\n",
              "      <td>-73.95952</td>\n",
              "      <td>Private room</td>\n",
              "      <td>65</td>\n",
              "      <td>30</td>\n",
              "      <td>0</td>\n",
              "      <td>NaN</td>\n",
              "      <td>NaN</td>\n",
              "      <td>2</td>\n",
              "      <td>365</td>\n",
              "    </tr>\n",
              "  </tbody>\n",
              "</table>\n",
              "</div>"
            ],
            "text/plain": [
              "             id  ... availability_365\n",
              "2751    1489426  ...                0\n",
              "19016  15100883  ...              179\n",
              "33473  26463879  ...              365\n",
              "\n",
              "[3 rows x 16 columns]"
            ]
          },
          "metadata": {},
          "execution_count": 75
        }
      ]
    },
    {
      "cell_type": "code",
      "metadata": {
        "colab": {
          "base_uri": "https://localhost:8080/",
          "height": 1000
        },
        "id": "B7orEhumn5ug",
        "outputId": "fc1bd5ad-2b95-4b47-99f2-f599526a571e"
      },
      "source": [
        "df_airbnb.loc[(df_airbnb['neighbourhood_group']=='Manhattan') & (df_airbnb['host_name']=='Natasha')]\n",
        " #experiment\n",
        "#Same hosts have hosted for different properties in same neighbourhood groups!"
      ],
      "execution_count": 78,
      "outputs": [
        {
          "output_type": "execute_result",
          "data": {
            "text/html": [
              "<div>\n",
              "<style scoped>\n",
              "    .dataframe tbody tr th:only-of-type {\n",
              "        vertical-align: middle;\n",
              "    }\n",
              "\n",
              "    .dataframe tbody tr th {\n",
              "        vertical-align: top;\n",
              "    }\n",
              "\n",
              "    .dataframe thead th {\n",
              "        text-align: right;\n",
              "    }\n",
              "</style>\n",
              "<table border=\"1\" class=\"dataframe\">\n",
              "  <thead>\n",
              "    <tr style=\"text-align: right;\">\n",
              "      <th></th>\n",
              "      <th>id</th>\n",
              "      <th>name</th>\n",
              "      <th>host_id</th>\n",
              "      <th>host_name</th>\n",
              "      <th>neighbourhood_group</th>\n",
              "      <th>neighbourhood</th>\n",
              "      <th>latitude</th>\n",
              "      <th>longitude</th>\n",
              "      <th>room_type</th>\n",
              "      <th>price</th>\n",
              "      <th>minimum_nights</th>\n",
              "      <th>number_of_reviews</th>\n",
              "      <th>last_review</th>\n",
              "      <th>reviews_per_month</th>\n",
              "      <th>calculated_host_listings_count</th>\n",
              "      <th>availability_365</th>\n",
              "    </tr>\n",
              "  </thead>\n",
              "  <tbody>\n",
              "    <tr>\n",
              "      <th>4702</th>\n",
              "      <td>3304307</td>\n",
              "      <td>Lovely Shiny Private Room in NYC</td>\n",
              "      <td>12465884</td>\n",
              "      <td>Natasha</td>\n",
              "      <td>Manhattan</td>\n",
              "      <td>East Harlem</td>\n",
              "      <td>40.79269</td>\n",
              "      <td>-73.94218</td>\n",
              "      <td>Private room</td>\n",
              "      <td>100</td>\n",
              "      <td>3</td>\n",
              "      <td>64</td>\n",
              "      <td>2019-06-01</td>\n",
              "      <td>1.05</td>\n",
              "      <td>1</td>\n",
              "      <td>219</td>\n",
              "    </tr>\n",
              "    <tr>\n",
              "      <th>4853</th>\n",
              "      <td>3458525</td>\n",
              "      <td>Modern &amp; Cozy 1BD Garden Apt</td>\n",
              "      <td>17430718</td>\n",
              "      <td>Natasha</td>\n",
              "      <td>Manhattan</td>\n",
              "      <td>Harlem</td>\n",
              "      <td>40.81511</td>\n",
              "      <td>-73.94315</td>\n",
              "      <td>Entire home/apt</td>\n",
              "      <td>115</td>\n",
              "      <td>3</td>\n",
              "      <td>64</td>\n",
              "      <td>2019-06-19</td>\n",
              "      <td>1.05</td>\n",
              "      <td>2</td>\n",
              "      <td>211</td>\n",
              "    </tr>\n",
              "    <tr>\n",
              "      <th>8686</th>\n",
              "      <td>6673630</td>\n",
              "      <td>Stylish L.E.S Studio</td>\n",
              "      <td>6591262</td>\n",
              "      <td>Natasha</td>\n",
              "      <td>Manhattan</td>\n",
              "      <td>Lower East Side</td>\n",
              "      <td>40.71661</td>\n",
              "      <td>-73.98916</td>\n",
              "      <td>Entire home/apt</td>\n",
              "      <td>150</td>\n",
              "      <td>3</td>\n",
              "      <td>1</td>\n",
              "      <td>2015-08-01</td>\n",
              "      <td>0.02</td>\n",
              "      <td>1</td>\n",
              "      <td>0</td>\n",
              "    </tr>\n",
              "    <tr>\n",
              "      <th>9376</th>\n",
              "      <td>7193201</td>\n",
              "      <td>Private RM in Heart of East Village</td>\n",
              "      <td>33739627</td>\n",
              "      <td>Natasha</td>\n",
              "      <td>Manhattan</td>\n",
              "      <td>East Village</td>\n",
              "      <td>40.72896</td>\n",
              "      <td>-73.98430</td>\n",
              "      <td>Private room</td>\n",
              "      <td>99</td>\n",
              "      <td>1</td>\n",
              "      <td>4</td>\n",
              "      <td>2015-10-24</td>\n",
              "      <td>0.08</td>\n",
              "      <td>1</td>\n",
              "      <td>0</td>\n",
              "    </tr>\n",
              "    <tr>\n",
              "      <th>10310</th>\n",
              "      <td>7894907</td>\n",
              "      <td>Cosy studio in East Village</td>\n",
              "      <td>1830864</td>\n",
              "      <td>Natasha</td>\n",
              "      <td>Manhattan</td>\n",
              "      <td>East Village</td>\n",
              "      <td>40.72395</td>\n",
              "      <td>-73.98001</td>\n",
              "      <td>Entire home/apt</td>\n",
              "      <td>150</td>\n",
              "      <td>2</td>\n",
              "      <td>25</td>\n",
              "      <td>2016-07-22</td>\n",
              "      <td>0.55</td>\n",
              "      <td>1</td>\n",
              "      <td>0</td>\n",
              "    </tr>\n",
              "    <tr>\n",
              "      <th>11344</th>\n",
              "      <td>8813547</td>\n",
              "      <td>For Christmas-Large New 1 BR Near Central Park</td>\n",
              "      <td>30350590</td>\n",
              "      <td>Natasha</td>\n",
              "      <td>Manhattan</td>\n",
              "      <td>Theater District</td>\n",
              "      <td>40.76268</td>\n",
              "      <td>-73.98407</td>\n",
              "      <td>Private room</td>\n",
              "      <td>230</td>\n",
              "      <td>5</td>\n",
              "      <td>10</td>\n",
              "      <td>2016-09-10</td>\n",
              "      <td>0.23</td>\n",
              "      <td>1</td>\n",
              "      <td>0</td>\n",
              "    </tr>\n",
              "    <tr>\n",
              "      <th>20061</th>\n",
              "      <td>16066223</td>\n",
              "      <td>Spacious, quiet 1 br apt in beautiful Inwood!</td>\n",
              "      <td>1713011</td>\n",
              "      <td>Natasha</td>\n",
              "      <td>Manhattan</td>\n",
              "      <td>Inwood</td>\n",
              "      <td>40.86757</td>\n",
              "      <td>-73.92699</td>\n",
              "      <td>Entire home/apt</td>\n",
              "      <td>89</td>\n",
              "      <td>14</td>\n",
              "      <td>14</td>\n",
              "      <td>2019-05-13</td>\n",
              "      <td>0.57</td>\n",
              "      <td>1</td>\n",
              "      <td>4</td>\n",
              "    </tr>\n",
              "    <tr>\n",
              "      <th>21145</th>\n",
              "      <td>16779705</td>\n",
              "      <td>Cozy West Village Studio</td>\n",
              "      <td>11699846</td>\n",
              "      <td>Natasha</td>\n",
              "      <td>Manhattan</td>\n",
              "      <td>Greenwich Village</td>\n",
              "      <td>40.73239</td>\n",
              "      <td>-73.99960</td>\n",
              "      <td>Entire home/apt</td>\n",
              "      <td>103</td>\n",
              "      <td>2</td>\n",
              "      <td>15</td>\n",
              "      <td>2018-10-28</td>\n",
              "      <td>0.57</td>\n",
              "      <td>1</td>\n",
              "      <td>0</td>\n",
              "    </tr>\n",
              "    <tr>\n",
              "      <th>22125</th>\n",
              "      <td>17808917</td>\n",
              "      <td>Gorgeous &amp; Spacious UES apartment</td>\n",
              "      <td>85218001</td>\n",
              "      <td>Natasha</td>\n",
              "      <td>Manhattan</td>\n",
              "      <td>Upper East Side</td>\n",
              "      <td>40.77666</td>\n",
              "      <td>-73.95618</td>\n",
              "      <td>Private room</td>\n",
              "      <td>105</td>\n",
              "      <td>2</td>\n",
              "      <td>8</td>\n",
              "      <td>2018-06-16</td>\n",
              "      <td>0.30</td>\n",
              "      <td>1</td>\n",
              "      <td>0</td>\n",
              "    </tr>\n",
              "    <tr>\n",
              "      <th>24200</th>\n",
              "      <td>19499668</td>\n",
              "      <td>Cozy Sofa Bed in Upper Manhattan</td>\n",
              "      <td>3372118</td>\n",
              "      <td>Natasha</td>\n",
              "      <td>Manhattan</td>\n",
              "      <td>Washington Heights</td>\n",
              "      <td>40.84133</td>\n",
              "      <td>-73.93739</td>\n",
              "      <td>Shared room</td>\n",
              "      <td>50</td>\n",
              "      <td>1</td>\n",
              "      <td>21</td>\n",
              "      <td>2019-06-15</td>\n",
              "      <td>0.86</td>\n",
              "      <td>1</td>\n",
              "      <td>188</td>\n",
              "    </tr>\n",
              "    <tr>\n",
              "      <th>28787</th>\n",
              "      <td>22231811</td>\n",
              "      <td>Stylish &amp; Spacious 1BD in Central Harlem!</td>\n",
              "      <td>17430718</td>\n",
              "      <td>Natasha</td>\n",
              "      <td>Manhattan</td>\n",
              "      <td>Harlem</td>\n",
              "      <td>40.81537</td>\n",
              "      <td>-73.94067</td>\n",
              "      <td>Entire home/apt</td>\n",
              "      <td>135</td>\n",
              "      <td>3</td>\n",
              "      <td>21</td>\n",
              "      <td>2019-06-10</td>\n",
              "      <td>1.13</td>\n",
              "      <td>2</td>\n",
              "      <td>75</td>\n",
              "    </tr>\n",
              "    <tr>\n",
              "      <th>39111</th>\n",
              "      <td>30528541</td>\n",
              "      <td>New york Multi-unit building</td>\n",
              "      <td>95575605</td>\n",
              "      <td>Natasha</td>\n",
              "      <td>Manhattan</td>\n",
              "      <td>Chelsea</td>\n",
              "      <td>40.74726</td>\n",
              "      <td>-73.99029</td>\n",
              "      <td>Entire home/apt</td>\n",
              "      <td>250</td>\n",
              "      <td>7</td>\n",
              "      <td>0</td>\n",
              "      <td>NaN</td>\n",
              "      <td>NaN</td>\n",
              "      <td>1</td>\n",
              "      <td>0</td>\n",
              "    </tr>\n",
              "    <tr>\n",
              "      <th>40611</th>\n",
              "      <td>31494165</td>\n",
              "      <td>Sunny Cosy Private Room Hell's Kitchen &amp; Broadway</td>\n",
              "      <td>33464426</td>\n",
              "      <td>Natasha</td>\n",
              "      <td>Manhattan</td>\n",
              "      <td>Hell's Kitchen</td>\n",
              "      <td>40.76453</td>\n",
              "      <td>-73.98527</td>\n",
              "      <td>Private room</td>\n",
              "      <td>80</td>\n",
              "      <td>3</td>\n",
              "      <td>8</td>\n",
              "      <td>2019-05-29</td>\n",
              "      <td>1.40</td>\n",
              "      <td>1</td>\n",
              "      <td>0</td>\n",
              "    </tr>\n",
              "    <tr>\n",
              "      <th>42630</th>\n",
              "      <td>33094220</td>\n",
              "      <td>Bright and Quiet near Union Square in the Village</td>\n",
              "      <td>249069377</td>\n",
              "      <td>Natasha</td>\n",
              "      <td>Manhattan</td>\n",
              "      <td>Greenwich Village</td>\n",
              "      <td>40.73424</td>\n",
              "      <td>-73.99355</td>\n",
              "      <td>Private room</td>\n",
              "      <td>120</td>\n",
              "      <td>1</td>\n",
              "      <td>7</td>\n",
              "      <td>2019-06-12</td>\n",
              "      <td>1.96</td>\n",
              "      <td>1</td>\n",
              "      <td>13</td>\n",
              "    </tr>\n",
              "    <tr>\n",
              "      <th>48452</th>\n",
              "      <td>36272531</td>\n",
              "      <td>Charming TriBeCa Loft - Avail for Summer</td>\n",
              "      <td>194377959</td>\n",
              "      <td>Natasha</td>\n",
              "      <td>Manhattan</td>\n",
              "      <td>Tribeca</td>\n",
              "      <td>40.72262</td>\n",
              "      <td>-74.00861</td>\n",
              "      <td>Entire home/apt</td>\n",
              "      <td>250</td>\n",
              "      <td>21</td>\n",
              "      <td>0</td>\n",
              "      <td>NaN</td>\n",
              "      <td>NaN</td>\n",
              "      <td>1</td>\n",
              "      <td>66</td>\n",
              "    </tr>\n",
              "    <tr>\n",
              "      <th>48749</th>\n",
              "      <td>36417643</td>\n",
              "      <td>Luxury private room apt near Central Park (UES)</td>\n",
              "      <td>49796302</td>\n",
              "      <td>Natasha</td>\n",
              "      <td>Manhattan</td>\n",
              "      <td>East Harlem</td>\n",
              "      <td>40.79339</td>\n",
              "      <td>-73.93784</td>\n",
              "      <td>Private room</td>\n",
              "      <td>150</td>\n",
              "      <td>1</td>\n",
              "      <td>0</td>\n",
              "      <td>NaN</td>\n",
              "      <td>NaN</td>\n",
              "      <td>1</td>\n",
              "      <td>265</td>\n",
              "    </tr>\n",
              "  </tbody>\n",
              "</table>\n",
              "</div>"
            ],
            "text/plain": [
              "             id  ... availability_365\n",
              "4702    3304307  ...              219\n",
              "4853    3458525  ...              211\n",
              "8686    6673630  ...                0\n",
              "9376    7193201  ...                0\n",
              "10310   7894907  ...                0\n",
              "11344   8813547  ...                0\n",
              "20061  16066223  ...                4\n",
              "21145  16779705  ...                0\n",
              "22125  17808917  ...                0\n",
              "24200  19499668  ...              188\n",
              "28787  22231811  ...               75\n",
              "39111  30528541  ...                0\n",
              "40611  31494165  ...                0\n",
              "42630  33094220  ...               13\n",
              "48452  36272531  ...               66\n",
              "48749  36417643  ...              265\n",
              "\n",
              "[16 rows x 16 columns]"
            ]
          },
          "metadata": {},
          "execution_count": 78
        }
      ]
    },
    {
      "cell_type": "code",
      "metadata": {
        "colab": {
          "base_uri": "https://localhost:8080/",
          "height": 1000
        },
        "id": "C7UKG0HSSfJz",
        "outputId": "9468f46a-6c57-4724-f449-39117379e588"
      },
      "source": [
        "# there are few listings where the property name and the host have same names\n",
        "df_airbnb[df_airbnb['name']==df_airbnb['host_name']]"
      ],
      "execution_count": 82,
      "outputs": [
        {
          "output_type": "execute_result",
          "data": {
            "text/html": [
              "<div>\n",
              "<style scoped>\n",
              "    .dataframe tbody tr th:only-of-type {\n",
              "        vertical-align: middle;\n",
              "    }\n",
              "\n",
              "    .dataframe tbody tr th {\n",
              "        vertical-align: top;\n",
              "    }\n",
              "\n",
              "    .dataframe thead th {\n",
              "        text-align: right;\n",
              "    }\n",
              "</style>\n",
              "<table border=\"1\" class=\"dataframe\">\n",
              "  <thead>\n",
              "    <tr style=\"text-align: right;\">\n",
              "      <th></th>\n",
              "      <th>id</th>\n",
              "      <th>name</th>\n",
              "      <th>host_id</th>\n",
              "      <th>host_name</th>\n",
              "      <th>neighbourhood_group</th>\n",
              "      <th>neighbourhood</th>\n",
              "      <th>latitude</th>\n",
              "      <th>longitude</th>\n",
              "      <th>room_type</th>\n",
              "      <th>price</th>\n",
              "      <th>minimum_nights</th>\n",
              "      <th>number_of_reviews</th>\n",
              "      <th>last_review</th>\n",
              "      <th>reviews_per_month</th>\n",
              "      <th>calculated_host_listings_count</th>\n",
              "      <th>availability_365</th>\n",
              "    </tr>\n",
              "  </thead>\n",
              "  <tbody>\n",
              "    <tr>\n",
              "      <th>9473</th>\n",
              "      <td>7264659</td>\n",
              "      <td>Olivier</td>\n",
              "      <td>6994503</td>\n",
              "      <td>Olivier</td>\n",
              "      <td>Manhattan</td>\n",
              "      <td>Upper West Side</td>\n",
              "      <td>40.78931</td>\n",
              "      <td>-73.97520</td>\n",
              "      <td>Entire home/apt</td>\n",
              "      <td>200</td>\n",
              "      <td>5</td>\n",
              "      <td>12</td>\n",
              "      <td>2018-01-30</td>\n",
              "      <td>0.25</td>\n",
              "      <td>1</td>\n",
              "      <td>25</td>\n",
              "    </tr>\n",
              "    <tr>\n",
              "      <th>10682</th>\n",
              "      <td>8212051</td>\n",
              "      <td>Monty</td>\n",
              "      <td>43302952</td>\n",
              "      <td>Monty</td>\n",
              "      <td>Brooklyn</td>\n",
              "      <td>East Flatbush</td>\n",
              "      <td>40.66383</td>\n",
              "      <td>-73.92706</td>\n",
              "      <td>Shared room</td>\n",
              "      <td>95</td>\n",
              "      <td>2</td>\n",
              "      <td>7</td>\n",
              "      <td>2015-10-30</td>\n",
              "      <td>0.15</td>\n",
              "      <td>1</td>\n",
              "      <td>238</td>\n",
              "    </tr>\n",
              "    <tr>\n",
              "      <th>16422</th>\n",
              "      <td>13186374</td>\n",
              "      <td>Sean</td>\n",
              "      <td>35143476</td>\n",
              "      <td>Sean</td>\n",
              "      <td>Brooklyn</td>\n",
              "      <td>Windsor Terrace</td>\n",
              "      <td>40.65182</td>\n",
              "      <td>-73.98043</td>\n",
              "      <td>Entire home/apt</td>\n",
              "      <td>400</td>\n",
              "      <td>7</td>\n",
              "      <td>0</td>\n",
              "      <td>NaN</td>\n",
              "      <td>NaN</td>\n",
              "      <td>1</td>\n",
              "      <td>0</td>\n",
              "    </tr>\n",
              "    <tr>\n",
              "      <th>23996</th>\n",
              "      <td>19348168</td>\n",
              "      <td>Cyn</td>\n",
              "      <td>74033595</td>\n",
              "      <td>Cyn</td>\n",
              "      <td>Brooklyn</td>\n",
              "      <td>Bedford-Stuyvesant</td>\n",
              "      <td>40.67850</td>\n",
              "      <td>-73.91478</td>\n",
              "      <td>Private room</td>\n",
              "      <td>75</td>\n",
              "      <td>2</td>\n",
              "      <td>1</td>\n",
              "      <td>2018-09-10</td>\n",
              "      <td>0.10</td>\n",
              "      <td>1</td>\n",
              "      <td>0</td>\n",
              "    </tr>\n",
              "    <tr>\n",
              "      <th>24152</th>\n",
              "      <td>19456810</td>\n",
              "      <td>Hillside Hotel</td>\n",
              "      <td>134184451</td>\n",
              "      <td>Hillside Hotel</td>\n",
              "      <td>Queens</td>\n",
              "      <td>Briarwood</td>\n",
              "      <td>40.70454</td>\n",
              "      <td>-73.81549</td>\n",
              "      <td>Private room</td>\n",
              "      <td>93</td>\n",
              "      <td>1</td>\n",
              "      <td>2</td>\n",
              "      <td>2017-07-23</td>\n",
              "      <td>0.08</td>\n",
              "      <td>18</td>\n",
              "      <td>90</td>\n",
              "    </tr>\n",
              "    <tr>\n",
              "      <th>24607</th>\n",
              "      <td>19785737</td>\n",
              "      <td>Hillside Hotel</td>\n",
              "      <td>134184451</td>\n",
              "      <td>Hillside Hotel</td>\n",
              "      <td>Queens</td>\n",
              "      <td>Jamaica</td>\n",
              "      <td>40.70445</td>\n",
              "      <td>-73.81399</td>\n",
              "      <td>Private room</td>\n",
              "      <td>135</td>\n",
              "      <td>1</td>\n",
              "      <td>1</td>\n",
              "      <td>2017-10-08</td>\n",
              "      <td>0.05</td>\n",
              "      <td>18</td>\n",
              "      <td>180</td>\n",
              "    </tr>\n",
              "    <tr>\n",
              "      <th>26734</th>\n",
              "      <td>21231543</td>\n",
              "      <td>Hillside Hotel</td>\n",
              "      <td>134184451</td>\n",
              "      <td>Hillside Hotel</td>\n",
              "      <td>Queens</td>\n",
              "      <td>Jamaica</td>\n",
              "      <td>40.70428</td>\n",
              "      <td>-73.81353</td>\n",
              "      <td>Private room</td>\n",
              "      <td>135</td>\n",
              "      <td>1</td>\n",
              "      <td>0</td>\n",
              "      <td>NaN</td>\n",
              "      <td>NaN</td>\n",
              "      <td>18</td>\n",
              "      <td>365</td>\n",
              "    </tr>\n",
              "    <tr>\n",
              "      <th>26752</th>\n",
              "      <td>21243952</td>\n",
              "      <td>Hillside Hotel</td>\n",
              "      <td>134184451</td>\n",
              "      <td>Hillside Hotel</td>\n",
              "      <td>Queens</td>\n",
              "      <td>Jamaica</td>\n",
              "      <td>40.70288</td>\n",
              "      <td>-73.81531</td>\n",
              "      <td>Private room</td>\n",
              "      <td>135</td>\n",
              "      <td>1</td>\n",
              "      <td>1</td>\n",
              "      <td>2018-01-02</td>\n",
              "      <td>0.05</td>\n",
              "      <td>18</td>\n",
              "      <td>365</td>\n",
              "    </tr>\n",
              "    <tr>\n",
              "      <th>26753</th>\n",
              "      <td>21244035</td>\n",
              "      <td>Hillside Hotel</td>\n",
              "      <td>134184451</td>\n",
              "      <td>Hillside Hotel</td>\n",
              "      <td>Queens</td>\n",
              "      <td>Jamaica</td>\n",
              "      <td>40.70319</td>\n",
              "      <td>-73.81410</td>\n",
              "      <td>Private room</td>\n",
              "      <td>135</td>\n",
              "      <td>1</td>\n",
              "      <td>2</td>\n",
              "      <td>2018-06-10</td>\n",
              "      <td>0.09</td>\n",
              "      <td>18</td>\n",
              "      <td>365</td>\n",
              "    </tr>\n",
              "    <tr>\n",
              "      <th>26889</th>\n",
              "      <td>21311903</td>\n",
              "      <td>Hillside Hotel</td>\n",
              "      <td>134184451</td>\n",
              "      <td>Hillside Hotel</td>\n",
              "      <td>Queens</td>\n",
              "      <td>Jamaica</td>\n",
              "      <td>40.70258</td>\n",
              "      <td>-73.81510</td>\n",
              "      <td>Private room</td>\n",
              "      <td>135</td>\n",
              "      <td>1</td>\n",
              "      <td>0</td>\n",
              "      <td>NaN</td>\n",
              "      <td>NaN</td>\n",
              "      <td>18</td>\n",
              "      <td>365</td>\n",
              "    </tr>\n",
              "    <tr>\n",
              "      <th>26891</th>\n",
              "      <td>21312075</td>\n",
              "      <td>Hillside Hotel</td>\n",
              "      <td>134184451</td>\n",
              "      <td>Hillside Hotel</td>\n",
              "      <td>Queens</td>\n",
              "      <td>Jamaica</td>\n",
              "      <td>40.70333</td>\n",
              "      <td>-73.81380</td>\n",
              "      <td>Private room</td>\n",
              "      <td>135</td>\n",
              "      <td>1</td>\n",
              "      <td>0</td>\n",
              "      <td>NaN</td>\n",
              "      <td>NaN</td>\n",
              "      <td>18</td>\n",
              "      <td>365</td>\n",
              "    </tr>\n",
              "    <tr>\n",
              "      <th>26892</th>\n",
              "      <td>21312191</td>\n",
              "      <td>Hillside Hotel</td>\n",
              "      <td>134184451</td>\n",
              "      <td>Hillside Hotel</td>\n",
              "      <td>Queens</td>\n",
              "      <td>Jamaica</td>\n",
              "      <td>40.70259</td>\n",
              "      <td>-73.81415</td>\n",
              "      <td>Private room</td>\n",
              "      <td>135</td>\n",
              "      <td>1</td>\n",
              "      <td>0</td>\n",
              "      <td>NaN</td>\n",
              "      <td>NaN</td>\n",
              "      <td>18</td>\n",
              "      <td>365</td>\n",
              "    </tr>\n",
              "    <tr>\n",
              "      <th>26893</th>\n",
              "      <td>21312225</td>\n",
              "      <td>Hillside Hotel</td>\n",
              "      <td>134184451</td>\n",
              "      <td>Hillside Hotel</td>\n",
              "      <td>Queens</td>\n",
              "      <td>Jamaica</td>\n",
              "      <td>40.70262</td>\n",
              "      <td>-73.81526</td>\n",
              "      <td>Private room</td>\n",
              "      <td>135</td>\n",
              "      <td>1</td>\n",
              "      <td>1</td>\n",
              "      <td>2017-12-10</td>\n",
              "      <td>0.05</td>\n",
              "      <td>18</td>\n",
              "      <td>365</td>\n",
              "    </tr>\n",
              "    <tr>\n",
              "      <th>26894</th>\n",
              "      <td>21312283</td>\n",
              "      <td>Hillside Hotel</td>\n",
              "      <td>134184451</td>\n",
              "      <td>Hillside Hotel</td>\n",
              "      <td>Queens</td>\n",
              "      <td>Briarwood</td>\n",
              "      <td>40.70450</td>\n",
              "      <td>-73.81447</td>\n",
              "      <td>Private room</td>\n",
              "      <td>135</td>\n",
              "      <td>1</td>\n",
              "      <td>0</td>\n",
              "      <td>NaN</td>\n",
              "      <td>NaN</td>\n",
              "      <td>18</td>\n",
              "      <td>355</td>\n",
              "    </tr>\n",
              "    <tr>\n",
              "      <th>26895</th>\n",
              "      <td>21312330</td>\n",
              "      <td>Hillside Hotel</td>\n",
              "      <td>134184451</td>\n",
              "      <td>Hillside Hotel</td>\n",
              "      <td>Queens</td>\n",
              "      <td>Briarwood</td>\n",
              "      <td>40.70458</td>\n",
              "      <td>-73.81418</td>\n",
              "      <td>Private room</td>\n",
              "      <td>135</td>\n",
              "      <td>1</td>\n",
              "      <td>0</td>\n",
              "      <td>NaN</td>\n",
              "      <td>NaN</td>\n",
              "      <td>18</td>\n",
              "      <td>355</td>\n",
              "    </tr>\n",
              "    <tr>\n",
              "      <th>26896</th>\n",
              "      <td>21312403</td>\n",
              "      <td>Hillside Hotel</td>\n",
              "      <td>134184451</td>\n",
              "      <td>Hillside Hotel</td>\n",
              "      <td>Queens</td>\n",
              "      <td>Jamaica</td>\n",
              "      <td>40.70423</td>\n",
              "      <td>-73.81440</td>\n",
              "      <td>Private room</td>\n",
              "      <td>165</td>\n",
              "      <td>1</td>\n",
              "      <td>0</td>\n",
              "      <td>NaN</td>\n",
              "      <td>NaN</td>\n",
              "      <td>18</td>\n",
              "      <td>362</td>\n",
              "    </tr>\n",
              "    <tr>\n",
              "      <th>26897</th>\n",
              "      <td>21312440</td>\n",
              "      <td>Hillside Hotel</td>\n",
              "      <td>134184451</td>\n",
              "      <td>Hillside Hotel</td>\n",
              "      <td>Queens</td>\n",
              "      <td>Jamaica</td>\n",
              "      <td>40.70269</td>\n",
              "      <td>-73.81585</td>\n",
              "      <td>Private room</td>\n",
              "      <td>165</td>\n",
              "      <td>1</td>\n",
              "      <td>0</td>\n",
              "      <td>NaN</td>\n",
              "      <td>NaN</td>\n",
              "      <td>18</td>\n",
              "      <td>360</td>\n",
              "    </tr>\n",
              "    <tr>\n",
              "      <th>26898</th>\n",
              "      <td>21312495</td>\n",
              "      <td>Hillside Hotel</td>\n",
              "      <td>134184451</td>\n",
              "      <td>Hillside Hotel</td>\n",
              "      <td>Queens</td>\n",
              "      <td>Jamaica</td>\n",
              "      <td>40.70426</td>\n",
              "      <td>-73.81509</td>\n",
              "      <td>Private room</td>\n",
              "      <td>165</td>\n",
              "      <td>1</td>\n",
              "      <td>0</td>\n",
              "      <td>NaN</td>\n",
              "      <td>NaN</td>\n",
              "      <td>18</td>\n",
              "      <td>362</td>\n",
              "    </tr>\n",
              "    <tr>\n",
              "      <th>26899</th>\n",
              "      <td>21312549</td>\n",
              "      <td>Hillside Hotel</td>\n",
              "      <td>134184451</td>\n",
              "      <td>Hillside Hotel</td>\n",
              "      <td>Queens</td>\n",
              "      <td>Jamaica</td>\n",
              "      <td>40.70262</td>\n",
              "      <td>-73.81579</td>\n",
              "      <td>Private room</td>\n",
              "      <td>165</td>\n",
              "      <td>1</td>\n",
              "      <td>0</td>\n",
              "      <td>NaN</td>\n",
              "      <td>NaN</td>\n",
              "      <td>18</td>\n",
              "      <td>355</td>\n",
              "    </tr>\n",
              "    <tr>\n",
              "      <th>26900</th>\n",
              "      <td>21312595</td>\n",
              "      <td>Hillside Hotel</td>\n",
              "      <td>134184451</td>\n",
              "      <td>Hillside Hotel</td>\n",
              "      <td>Queens</td>\n",
              "      <td>Briarwood</td>\n",
              "      <td>40.70475</td>\n",
              "      <td>-73.81572</td>\n",
              "      <td>Private room</td>\n",
              "      <td>165</td>\n",
              "      <td>1</td>\n",
              "      <td>2</td>\n",
              "      <td>2018-01-01</td>\n",
              "      <td>0.09</td>\n",
              "      <td>18</td>\n",
              "      <td>355</td>\n",
              "    </tr>\n",
              "    <tr>\n",
              "      <th>26901</th>\n",
              "      <td>21312687</td>\n",
              "      <td>Hillside Hotel</td>\n",
              "      <td>134184451</td>\n",
              "      <td>Hillside Hotel</td>\n",
              "      <td>Queens</td>\n",
              "      <td>Briarwood</td>\n",
              "      <td>40.70471</td>\n",
              "      <td>-73.81542</td>\n",
              "      <td>Private room</td>\n",
              "      <td>135</td>\n",
              "      <td>1</td>\n",
              "      <td>3</td>\n",
              "      <td>2018-01-01</td>\n",
              "      <td>0.15</td>\n",
              "      <td>18</td>\n",
              "      <td>319</td>\n",
              "    </tr>\n",
              "    <tr>\n",
              "      <th>26902</th>\n",
              "      <td>21312732</td>\n",
              "      <td>Hillside Hotel</td>\n",
              "      <td>134184451</td>\n",
              "      <td>Hillside Hotel</td>\n",
              "      <td>Queens</td>\n",
              "      <td>Briarwood</td>\n",
              "      <td>40.70455</td>\n",
              "      <td>-73.81528</td>\n",
              "      <td>Private room</td>\n",
              "      <td>135</td>\n",
              "      <td>1</td>\n",
              "      <td>0</td>\n",
              "      <td>NaN</td>\n",
              "      <td>NaN</td>\n",
              "      <td>18</td>\n",
              "      <td>309</td>\n",
              "    </tr>\n",
              "    <tr>\n",
              "      <th>27186</th>\n",
              "      <td>21488093</td>\n",
              "      <td>Rod</td>\n",
              "      <td>128142697</td>\n",
              "      <td>Rod</td>\n",
              "      <td>Manhattan</td>\n",
              "      <td>Upper East Side</td>\n",
              "      <td>40.76719</td>\n",
              "      <td>-73.96973</td>\n",
              "      <td>Entire home/apt</td>\n",
              "      <td>750</td>\n",
              "      <td>4</td>\n",
              "      <td>0</td>\n",
              "      <td>NaN</td>\n",
              "      <td>NaN</td>\n",
              "      <td>2</td>\n",
              "      <td>0</td>\n",
              "    </tr>\n",
              "    <tr>\n",
              "      <th>33964</th>\n",
              "      <td>26895166</td>\n",
              "      <td>2018Serenity</td>\n",
              "      <td>202318295</td>\n",
              "      <td>2018Serenity</td>\n",
              "      <td>Manhattan</td>\n",
              "      <td>East Harlem</td>\n",
              "      <td>40.79424</td>\n",
              "      <td>-73.94290</td>\n",
              "      <td>Private room</td>\n",
              "      <td>50</td>\n",
              "      <td>5</td>\n",
              "      <td>4</td>\n",
              "      <td>2019-06-22</td>\n",
              "      <td>0.39</td>\n",
              "      <td>1</td>\n",
              "      <td>32</td>\n",
              "    </tr>\n",
              "    <tr>\n",
              "      <th>43564</th>\n",
              "      <td>33718254</td>\n",
              "      <td>Imperial</td>\n",
              "      <td>249479517</td>\n",
              "      <td>Imperial</td>\n",
              "      <td>Bronx</td>\n",
              "      <td>Soundview</td>\n",
              "      <td>40.82864</td>\n",
              "      <td>-73.87609</td>\n",
              "      <td>Private room</td>\n",
              "      <td>45</td>\n",
              "      <td>2</td>\n",
              "      <td>6</td>\n",
              "      <td>2019-06-21</td>\n",
              "      <td>2.28</td>\n",
              "      <td>2</td>\n",
              "      <td>24</td>\n",
              "    </tr>\n",
              "    <tr>\n",
              "      <th>45510</th>\n",
              "      <td>34803347</td>\n",
              "      <td>Yu</td>\n",
              "      <td>197052947</td>\n",
              "      <td>Yu</td>\n",
              "      <td>Manhattan</td>\n",
              "      <td>Roosevelt Island</td>\n",
              "      <td>40.76417</td>\n",
              "      <td>-73.94865</td>\n",
              "      <td>Shared room</td>\n",
              "      <td>55</td>\n",
              "      <td>7</td>\n",
              "      <td>0</td>\n",
              "      <td>NaN</td>\n",
              "      <td>NaN</td>\n",
              "      <td>1</td>\n",
              "      <td>38</td>\n",
              "    </tr>\n",
              "  </tbody>\n",
              "</table>\n",
              "</div>"
            ],
            "text/plain": [
              "             id  ... availability_365\n",
              "9473    7264659  ...               25\n",
              "10682   8212051  ...              238\n",
              "16422  13186374  ...                0\n",
              "23996  19348168  ...                0\n",
              "24152  19456810  ...               90\n",
              "24607  19785737  ...              180\n",
              "26734  21231543  ...              365\n",
              "26752  21243952  ...              365\n",
              "26753  21244035  ...              365\n",
              "26889  21311903  ...              365\n",
              "26891  21312075  ...              365\n",
              "26892  21312191  ...              365\n",
              "26893  21312225  ...              365\n",
              "26894  21312283  ...              355\n",
              "26895  21312330  ...              355\n",
              "26896  21312403  ...              362\n",
              "26897  21312440  ...              360\n",
              "26898  21312495  ...              362\n",
              "26899  21312549  ...              355\n",
              "26900  21312595  ...              355\n",
              "26901  21312687  ...              319\n",
              "26902  21312732  ...              309\n",
              "27186  21488093  ...                0\n",
              "33964  26895166  ...               32\n",
              "43564  33718254  ...               24\n",
              "45510  34803347  ...               38\n",
              "\n",
              "[26 rows x 16 columns]"
            ]
          },
          "metadata": {},
          "execution_count": 82
        }
      ]
    },
    {
      "cell_type": "markdown",
      "metadata": {
        "id": "KuvNUlNLbfgU"
      },
      "source": [
        "So, far I was trying to understand the two variables: name and host_name & its relationship with neighbourhood_group and neighbourhood.(only from the values present inside)\n",
        "\n",
        "Found out that: A host can have multiple properties in a neighbourhood group with different host-ids but a host with a particular property/listing in a particular neighbourhood of a neighbourhood group have a same host-id(not mandatory as there are exceptions where few hosts have diferrent id's for each listing/property in a neighbourhood)\n",
        "\n",
        "Also the data so far tells, there might be cases where a particular host has co-hosted someone else's property/listing in a neighbourhood on Airbnb.\n",
        "\n",
        "We'll not bother much as these are not that important in our analysis and proceed further!"
      ]
    },
    {
      "cell_type": "code",
      "metadata": {
        "id": "L1rwxfgiU0x4"
      },
      "source": [
        ""
      ],
      "execution_count": null,
      "outputs": []
    },
    {
      "cell_type": "code",
      "metadata": {
        "id": "KofrvUNXXujG"
      },
      "source": [
        "#  to find numerical veriables(overall summary)\n",
        "df_airbnb.describe()"
      ],
      "execution_count": null,
      "outputs": []
    },
    {
      "cell_type": "markdown",
      "metadata": {
        "id": "R6J1wsgvbGzh"
      },
      "source": [
        "**id, latitude, longitude,price,minimum_nights,number_of_reviews,last_review, reviews_per_month calculated_host_listings_count, availability_365** are numerical variables"
      ]
    },
    {
      "cell_type": "markdown",
      "metadata": {
        "id": "wquGXoSzqDt6"
      },
      "source": [
        "So far we get to know that columns such as 'id','last_review' are of no use for this prticular analysis.To elaborate, \"last_review\" is date; if there were no reviews for the listing - date simply will not exist. In our case, this column is irrelevant and insignificant therefore appending those values is not needed. "
      ]
    },
    {
      "cell_type": "code",
      "metadata": {
        "id": "fNGj31YZqjVK"
      },
      "source": [
        "#dropping columns that are not significant\n",
        "airbnb.drop(['id','last_review'], axis=1, inplace=True)"
      ],
      "execution_count": null,
      "outputs": []
    },
    {
      "cell_type": "markdown",
      "metadata": {
        "id": "gTALa7VGYpbq"
      },
      "source": [
        "# **Exploring and Visualizing Data**"
      ]
    },
    {
      "cell_type": "markdown",
      "metadata": {
        "id": "4H5Bm0h0Y2P-"
      },
      "source": [
        "if a person trying to book a listing for stay/rent he/she will look into these following factors while booking:\n",
        "**name,host_name,neighbourhood_group,neighbourhood,room_type,price,minimum_nights,number_of_reviews**\n",
        "these are the important ones in our analysis. We'll crosscheck though at last!"
      ]
    },
    {
      "cell_type": "code",
      "metadata": {
        "colab": {
          "base_uri": "https://localhost:8080/"
        },
        "id": "y1urAWeMeRJu",
        "outputId": "06de2d06-33eb-4510-df6d-0fe50b3c608d"
      },
      "source": [
        "df_airbnb['host_id'].value_counts()[:5] #host ids with most listings counts"
      ],
      "execution_count": 33,
      "outputs": [
        {
          "output_type": "execute_result",
          "data": {
            "text/plain": [
              "219517861    327\n",
              "107434423    232\n",
              "30283594     121\n",
              "137358866    103\n",
              "12243051      96\n",
              "Name: host_id, dtype: int64"
            ]
          },
          "metadata": {},
          "execution_count": 33
        }
      ]
    },
    {
      "cell_type": "code",
      "metadata": {
        "colab": {
          "base_uri": "https://localhost:8080/"
        },
        "id": "A09z31N_eIEU",
        "outputId": "590ed44b-91c7-4232-96ae-146b395162c3"
      },
      "source": [
        "df_airbnb['host_name'].value_counts()[:5] #5 hosts with most listings counts in entire NYC"
      ],
      "execution_count": 30,
      "outputs": [
        {
          "output_type": "execute_result",
          "data": {
            "text/plain": [
              "Michael         417\n",
              "David           403\n",
              "Sonder (NYC)    327\n",
              "John            294\n",
              "Alex            279\n",
              "Name: host_name, dtype: int64"
            ]
          },
          "metadata": {},
          "execution_count": 30
        }
      ]
    }
  ]
}